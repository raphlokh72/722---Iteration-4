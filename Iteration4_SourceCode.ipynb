{
 "cells": [
  {
   "cell_type": "code",
   "execution_count": 4,
   "id": "b68875c0",
   "metadata": {},
   "outputs": [],
   "source": [
    "import findspark\n",
    "findspark.init('/home/ubuntu/spark-3.2.1-bin-hadoop2.7')\n",
    "import pyspark\n",
    "from pyspark.sql import SparkSession\n",
    "spark = SparkSession.builder.appName('basics').getOrCreate()\n",
    "\n",
    "import pandas as pd"
   ]
  },
  {
   "cell_type": "code",
   "execution_count": 5,
   "id": "e4304447",
   "metadata": {},
   "outputs": [],
   "source": [
    "df = spark.read.csv('train.csv')\n",
    "df_pd = pd.read_csv('train.csv')"
   ]
  },
  {
   "cell_type": "markdown",
   "id": "cbcb1303",
   "metadata": {},
   "source": [
    "# Data Exploration "
   ]
  },
  {
   "cell_type": "code",
   "execution_count": 6,
   "id": "2334d9ee",
   "metadata": {},
   "outputs": [
    {
     "name": "stdout",
     "output_type": "stream",
     "text": [
      "+-------------------+------+-------+----------+-------+-----+------+--------+---------+------+----------+-----+\n",
      "|                _c0|   _c1|    _c2|       _c3|    _c4|  _c5|   _c6|     _c7|      _c8|   _c9|      _c10| _c11|\n",
      "+-------------------+------+-------+----------+-------+-----+------+--------+---------+------+----------+-----+\n",
      "|           datetime|season|holiday|workingday|weather| temp| atemp|humidity|windspeed|casual|registered|count|\n",
      "|2011-01-01 00:00:00|     1|      0|         0|      1| 9.84|14.395|      81|        0|     3|        13|   16|\n",
      "|2011-01-01 01:00:00|     1|      0|         0|      1| 9.02|13.635|      80|        0|     8|        32|   40|\n",
      "|2011-01-01 02:00:00|     1|      0|         0|      1| 9.02|13.635|      80|        0|     5|        27|   32|\n",
      "|2011-01-01 03:00:00|     1|      0|         0|      1| 9.84|14.395|      75|        0|     3|        10|   13|\n",
      "|2011-01-01 04:00:00|     1|      0|         0|      1| 9.84|14.395|      75|        0|     0|         1|    1|\n",
      "|2011-01-01 05:00:00|     1|      0|         0|      2| 9.84| 12.88|      75|   6.0032|     0|         1|    1|\n",
      "|2011-01-01 06:00:00|     1|      0|         0|      1| 9.02|13.635|      80|        0|     2|         0|    2|\n",
      "|2011-01-01 07:00:00|     1|      0|         0|      1|  8.2| 12.88|      86|        0|     1|         2|    3|\n",
      "|2011-01-01 08:00:00|     1|      0|         0|      1| 9.84|14.395|      75|        0|     1|         7|    8|\n",
      "|2011-01-01 09:00:00|     1|      0|         0|      1|13.12|17.425|      76|        0|     8|         6|   14|\n",
      "|2011-01-01 10:00:00|     1|      0|         0|      1|15.58|19.695|      76|  16.9979|    12|        24|   36|\n",
      "|2011-01-01 11:00:00|     1|      0|         0|      1|14.76|16.665|      81|  19.0012|    26|        30|   56|\n",
      "|2011-01-01 12:00:00|     1|      0|         0|      1|17.22| 21.21|      77|  19.0012|    29|        55|   84|\n",
      "|2011-01-01 13:00:00|     1|      0|         0|      2|18.86|22.725|      72|  19.9995|    47|        47|   94|\n",
      "|2011-01-01 14:00:00|     1|      0|         0|      2|18.86|22.725|      72|  19.0012|    35|        71|  106|\n",
      "|2011-01-01 15:00:00|     1|      0|         0|      2|18.04| 21.97|      77|  19.9995|    40|        70|  110|\n",
      "|2011-01-01 16:00:00|     1|      0|         0|      2|17.22| 21.21|      82|  19.9995|    41|        52|   93|\n",
      "|2011-01-01 17:00:00|     1|      0|         0|      2|18.04| 21.97|      82|  19.0012|    15|        52|   67|\n",
      "|2011-01-01 18:00:00|     1|      0|         0|      3|17.22| 21.21|      88|  16.9979|     9|        26|   35|\n",
      "+-------------------+------+-------+----------+-------+-----+------+--------+---------+------+----------+-----+\n",
      "only showing top 20 rows\n",
      "\n"
     ]
    },
    {
     "data": {
      "text/plain": [
       "['_c0',\n",
       " '_c1',\n",
       " '_c2',\n",
       " '_c3',\n",
       " '_c4',\n",
       " '_c5',\n",
       " '_c6',\n",
       " '_c7',\n",
       " '_c8',\n",
       " '_c9',\n",
       " '_c10',\n",
       " '_c11']"
      ]
     },
     "execution_count": 6,
     "metadata": {},
     "output_type": "execute_result"
    }
   ],
   "source": [
    "df.show()\n",
    "\n",
    "df.columns "
   ]
  },
  {
   "cell_type": "code",
   "execution_count": 7,
   "id": "310d557e",
   "metadata": {},
   "outputs": [
    {
     "name": "stdout",
     "output_type": "stream",
     "text": [
      "+-------------------+------+-------+----------+-------+-----+------+--------+---------+------+----------+-----+\n",
      "|           datetime|season|holiday|   workday|weather| temp| atemp|humidity|windspeed|casual|registered|count|\n",
      "+-------------------+------+-------+----------+-------+-----+------+--------+---------+------+----------+-----+\n",
      "|           datetime|season|holiday|workingday|weather| temp| atemp|humidity|windspeed|casual|registered|count|\n",
      "|2011-01-01 00:00:00|     1|      0|         0|      1| 9.84|14.395|      81|        0|     3|        13|   16|\n",
      "|2011-01-01 01:00:00|     1|      0|         0|      1| 9.02|13.635|      80|        0|     8|        32|   40|\n",
      "|2011-01-01 02:00:00|     1|      0|         0|      1| 9.02|13.635|      80|        0|     5|        27|   32|\n",
      "|2011-01-01 03:00:00|     1|      0|         0|      1| 9.84|14.395|      75|        0|     3|        10|   13|\n",
      "|2011-01-01 04:00:00|     1|      0|         0|      1| 9.84|14.395|      75|        0|     0|         1|    1|\n",
      "|2011-01-01 05:00:00|     1|      0|         0|      2| 9.84| 12.88|      75|   6.0032|     0|         1|    1|\n",
      "|2011-01-01 06:00:00|     1|      0|         0|      1| 9.02|13.635|      80|        0|     2|         0|    2|\n",
      "|2011-01-01 07:00:00|     1|      0|         0|      1|  8.2| 12.88|      86|        0|     1|         2|    3|\n",
      "|2011-01-01 08:00:00|     1|      0|         0|      1| 9.84|14.395|      75|        0|     1|         7|    8|\n",
      "|2011-01-01 09:00:00|     1|      0|         0|      1|13.12|17.425|      76|        0|     8|         6|   14|\n",
      "|2011-01-01 10:00:00|     1|      0|         0|      1|15.58|19.695|      76|  16.9979|    12|        24|   36|\n",
      "|2011-01-01 11:00:00|     1|      0|         0|      1|14.76|16.665|      81|  19.0012|    26|        30|   56|\n",
      "|2011-01-01 12:00:00|     1|      0|         0|      1|17.22| 21.21|      77|  19.0012|    29|        55|   84|\n",
      "|2011-01-01 13:00:00|     1|      0|         0|      2|18.86|22.725|      72|  19.9995|    47|        47|   94|\n",
      "|2011-01-01 14:00:00|     1|      0|         0|      2|18.86|22.725|      72|  19.0012|    35|        71|  106|\n",
      "|2011-01-01 15:00:00|     1|      0|         0|      2|18.04| 21.97|      77|  19.9995|    40|        70|  110|\n",
      "|2011-01-01 16:00:00|     1|      0|         0|      2|17.22| 21.21|      82|  19.9995|    41|        52|   93|\n",
      "|2011-01-01 17:00:00|     1|      0|         0|      2|18.04| 21.97|      82|  19.0012|    15|        52|   67|\n",
      "|2011-01-01 18:00:00|     1|      0|         0|      3|17.22| 21.21|      88|  16.9979|     9|        26|   35|\n",
      "+-------------------+------+-------+----------+-------+-----+------+--------+---------+------+----------+-----+\n",
      "only showing top 20 rows\n",
      "\n"
     ]
    }
   ],
   "source": [
    "# rename columns \n",
    "df = df.withColumnRenamed('_c0', 'datetime')\n",
    "df = df.withColumnRenamed('_c1', 'season')\n",
    "df = df.withColumnRenamed('_c2', 'holiday')\n",
    "df = df.withColumnRenamed('_c3', 'workday')\n",
    "df = df.withColumnRenamed('_c4', 'weather')\n",
    "df = df.withColumnRenamed('_c5', 'temp')\n",
    "df = df.withColumnRenamed('_c6', 'atemp')\n",
    "df = df.withColumnRenamed('_c7', 'humidity')\n",
    "df = df.withColumnRenamed('_c8', 'windspeed')\n",
    "df = df.withColumnRenamed('_c9', 'casual')\n",
    "df = df.withColumnRenamed('_c10', 'registered')\n",
    "df = df.withColumnRenamed('_c11', 'count')\n",
    "\n",
    "df.show()\n",
    "\n"
   ]
  },
  {
   "cell_type": "code",
   "execution_count": 8,
   "id": "e1965e0b",
   "metadata": {},
   "outputs": [
    {
     "name": "stdout",
     "output_type": "stream",
     "text": [
      "+-------------------+------+-------+-------+-------+-----+------+--------+---------+------+----------+-----+\n",
      "|           datetime|season|holiday|workday|weather| temp| atemp|humidity|windspeed|casual|registered|count|\n",
      "+-------------------+------+-------+-------+-------+-----+------+--------+---------+------+----------+-----+\n",
      "|2011-01-01 00:00:00|     1|      0|      0|      1| 9.84|14.395|      81|        0|     3|        13|   16|\n",
      "|2011-01-01 01:00:00|     1|      0|      0|      1| 9.02|13.635|      80|        0|     8|        32|   40|\n",
      "|2011-01-01 02:00:00|     1|      0|      0|      1| 9.02|13.635|      80|        0|     5|        27|   32|\n",
      "|2011-01-01 03:00:00|     1|      0|      0|      1| 9.84|14.395|      75|        0|     3|        10|   13|\n",
      "|2011-01-01 04:00:00|     1|      0|      0|      1| 9.84|14.395|      75|        0|     0|         1|    1|\n",
      "|2011-01-01 05:00:00|     1|      0|      0|      2| 9.84| 12.88|      75|   6.0032|     0|         1|    1|\n",
      "|2011-01-01 06:00:00|     1|      0|      0|      1| 9.02|13.635|      80|        0|     2|         0|    2|\n",
      "|2011-01-01 07:00:00|     1|      0|      0|      1|  8.2| 12.88|      86|        0|     1|         2|    3|\n",
      "|2011-01-01 08:00:00|     1|      0|      0|      1| 9.84|14.395|      75|        0|     1|         7|    8|\n",
      "|2011-01-01 09:00:00|     1|      0|      0|      1|13.12|17.425|      76|        0|     8|         6|   14|\n",
      "|2011-01-01 10:00:00|     1|      0|      0|      1|15.58|19.695|      76|  16.9979|    12|        24|   36|\n",
      "|2011-01-01 11:00:00|     1|      0|      0|      1|14.76|16.665|      81|  19.0012|    26|        30|   56|\n",
      "|2011-01-01 12:00:00|     1|      0|      0|      1|17.22| 21.21|      77|  19.0012|    29|        55|   84|\n",
      "|2011-01-01 13:00:00|     1|      0|      0|      2|18.86|22.725|      72|  19.9995|    47|        47|   94|\n",
      "|2011-01-01 14:00:00|     1|      0|      0|      2|18.86|22.725|      72|  19.0012|    35|        71|  106|\n",
      "|2011-01-01 15:00:00|     1|      0|      0|      2|18.04| 21.97|      77|  19.9995|    40|        70|  110|\n",
      "|2011-01-01 16:00:00|     1|      0|      0|      2|17.22| 21.21|      82|  19.9995|    41|        52|   93|\n",
      "|2011-01-01 17:00:00|     1|      0|      0|      2|18.04| 21.97|      82|  19.0012|    15|        52|   67|\n",
      "|2011-01-01 18:00:00|     1|      0|      0|      3|17.22| 21.21|      88|  16.9979|     9|        26|   35|\n",
      "|2011-01-01 19:00:00|     1|      0|      0|      3|17.22| 21.21|      88|  16.9979|     6|        31|   37|\n",
      "+-------------------+------+-------+-------+-------+-----+------+--------+---------+------+----------+-----+\n",
      "only showing top 20 rows\n",
      "\n"
     ]
    },
    {
     "data": {
      "text/plain": [
       "['datetime',\n",
       " 'season',\n",
       " 'holiday',\n",
       " 'workday',\n",
       " 'weather',\n",
       " 'temp',\n",
       " 'atemp',\n",
       " 'humidity',\n",
       " 'windspeed',\n",
       " 'casual',\n",
       " 'registered',\n",
       " 'count']"
      ]
     },
     "execution_count": 8,
     "metadata": {},
     "output_type": "execute_result"
    }
   ],
   "source": [
    "#Filter out initial row as it is column lable \n",
    "df = df.filter(df.datetime!='datetime')\n",
    "\n",
    "df.show()\n",
    "\n",
    "df.columns"
   ]
  },
  {
   "cell_type": "code",
   "execution_count": 9,
   "id": "8a6a77c3",
   "metadata": {
    "scrolled": false
   },
   "outputs": [
    {
     "name": "stderr",
     "output_type": "stream",
     "text": [
      "                                                                                \r"
     ]
    },
    {
     "name": "stdout",
     "output_type": "stream",
     "text": [
      "+-------+-------------------+------------------+-------------------+------------------+\n",
      "|summary|           datetime|            season|            holiday|           workday|\n",
      "+-------+-------------------+------------------+-------------------+------------------+\n",
      "|  count|              10886|             10886|              10886|             10886|\n",
      "|   mean|               null|2.5066139996325556|0.02856880396839978|0.6808745177291935|\n",
      "| stddev|               null|1.1161743093443237|0.16659885062470944|0.4661591687997361|\n",
      "|    min|2011-01-01 00:00:00|                 1|                  0|                 0|\n",
      "|    25%|               null|               2.0|                0.0|               0.0|\n",
      "|    50%|               null|               3.0|                0.0|               1.0|\n",
      "|    75%|               null|               4.0|                0.0|               1.0|\n",
      "|    max|2012-12-19 23:00:00|                 4|                  1|                 1|\n",
      "+-------+-------------------+------------------+-------------------+------------------+\n",
      "\n"
     ]
    },
    {
     "name": "stderr",
     "output_type": "stream",
     "text": [
      "                                                                                \r"
     ]
    },
    {
     "name": "stdout",
     "output_type": "stream",
     "text": [
      "+-------+------------------+------------------+-----------------+------------------+------------------+\n",
      "|summary|           weather|              temp|            atemp|          humidity|         windspeed|\n",
      "+-------+------------------+------------------+-----------------+------------------+------------------+\n",
      "|  count|             10886|             10886|            10886|             10886|             10886|\n",
      "|   mean| 1.418427337865148|20.230859819952173|23.65508405291192| 61.88645967297446|12.799395406945093|\n",
      "| stddev|0.6338385858190968| 7.791589843987573| 8.47460062648494|19.245033277394704|  8.16453732683871|\n",
      "|    min|                 1|              0.82|             0.76|                 0|                 0|\n",
      "|    25%|               1.0|             13.94|           16.665|              47.0|            7.0015|\n",
      "|    50%|               1.0|              20.5|            24.24|              62.0|            12.998|\n",
      "|    75%|               2.0|             26.24|            31.06|              77.0|           16.9979|\n",
      "|    max|                 4|              9.84|             9.85|                97|            8.9981|\n",
      "+-------+------------------+------------------+-----------------+------------------+------------------+\n",
      "\n",
      "+-------+-----------------+------------------+------------------+\n",
      "|summary|           casual|        registered|             count|\n",
      "+-------+-----------------+------------------+------------------+\n",
      "|  count|            10886|             10886|             10886|\n",
      "|   mean|36.02195480433584| 155.5521771082124|191.57413191254824|\n",
      "| stddev|49.96047657264955|151.03903308192452|181.14445383028493|\n",
      "|    min|                0|                 0|                 1|\n",
      "|    25%|              4.0|              36.0|              42.0|\n",
      "|    50%|             17.0|             118.0|             145.0|\n",
      "|    75%|             49.0|             222.0|             284.0|\n",
      "|    max|               99|                99|                99|\n",
      "+-------+-----------------+------------------+------------------+\n",
      "\n"
     ]
    }
   ],
   "source": [
    "#Dataframe Components Summary \n",
    "\n",
    "df.select(\"datetime\", \"season\", 'holiday', 'workday').summary().show()\n",
    "df.select('weather',\"temp\", \"atemp\", 'humidity', 'windspeed').summary().show()\n",
    "df.select(\"casual\", \"registered\", 'count',).summary().show()"
   ]
  },
  {
   "cell_type": "code",
   "execution_count": 10,
   "id": "a436005a",
   "metadata": {},
   "outputs": [
    {
     "name": "stdout",
     "output_type": "stream",
     "text": [
      "root\n",
      " |-- datetime: string (nullable = true)\n",
      " |-- season: string (nullable = true)\n",
      " |-- holiday: string (nullable = true)\n",
      " |-- workday: string (nullable = true)\n",
      " |-- weather: string (nullable = true)\n",
      " |-- temp: string (nullable = true)\n",
      " |-- atemp: string (nullable = true)\n",
      " |-- humidity: string (nullable = true)\n",
      " |-- windspeed: string (nullable = true)\n",
      " |-- casual: string (nullable = true)\n",
      " |-- registered: string (nullable = true)\n",
      " |-- count: string (nullable = true)\n",
      "\n",
      "<class 'pandas.core.frame.DataFrame'>\n",
      "RangeIndex: 10886 entries, 0 to 10885\n",
      "Data columns (total 12 columns):\n",
      " #   Column      Non-Null Count  Dtype  \n",
      "---  ------      --------------  -----  \n",
      " 0   datetime    10886 non-null  object \n",
      " 1   season      10886 non-null  int64  \n",
      " 2   holiday     10886 non-null  int64  \n",
      " 3   workingday  10886 non-null  int64  \n",
      " 4   weather     10886 non-null  int64  \n",
      " 5   temp        10886 non-null  float64\n",
      " 6   atemp       10886 non-null  float64\n",
      " 7   humidity    10886 non-null  int64  \n",
      " 8   windspeed   10886 non-null  float64\n",
      " 9   casual      10886 non-null  int64  \n",
      " 10  registered  10886 non-null  int64  \n",
      " 11  count       10886 non-null  int64  \n",
      "dtypes: float64(3), int64(8), object(1)\n",
      "memory usage: 1020.7+ KB\n"
     ]
    }
   ],
   "source": [
    "df.printSchema()\n",
    "\n",
    "df_pd.info()"
   ]
  },
  {
   "cell_type": "markdown",
   "id": "bd1d69e3",
   "metadata": {},
   "source": [
    "# Data Manipulation"
   ]
  },
  {
   "cell_type": "code",
   "execution_count": 11,
   "id": "ca03c6b2",
   "metadata": {},
   "outputs": [
    {
     "name": "stdout",
     "output_type": "stream",
     "text": [
      "+-------------------+------+-------+-------+-------+-----+------+--------+---------+------+----------+-----+\n",
      "|           datetime|season|holiday|workday|weather| temp| atemp|humidity|windspeed|casual|registered|count|\n",
      "+-------------------+------+-------+-------+-------+-----+------+--------+---------+------+----------+-----+\n",
      "|2011-01-01 00:00:00|     1|      0|      0|      1| 9.84|14.395|      81|        0|     3|        13|   16|\n",
      "|2011-01-01 01:00:00|     1|      0|      0|      1| 9.02|13.635|      80|        0|     8|        32|   40|\n",
      "|2011-01-01 02:00:00|     1|      0|      0|      1| 9.02|13.635|      80|        0|     5|        27|   32|\n",
      "|2011-01-01 03:00:00|     1|      0|      0|      1| 9.84|14.395|      75|        0|     3|        10|   13|\n",
      "|2011-01-01 04:00:00|     1|      0|      0|      1| 9.84|14.395|      75|        0|     0|         1|    1|\n",
      "|2011-01-01 05:00:00|     1|      0|      0|      2| 9.84| 12.88|      75|   6.0032|     0|         1|    1|\n",
      "|2011-01-01 06:00:00|     1|      0|      0|      1| 9.02|13.635|      80|        0|     2|         0|    2|\n",
      "|2011-01-01 07:00:00|     1|      0|      0|      1|  8.2| 12.88|      86|        0|     1|         2|    3|\n",
      "|2011-01-01 08:00:00|     1|      0|      0|      1| 9.84|14.395|      75|        0|     1|         7|    8|\n",
      "|2011-01-01 09:00:00|     1|      0|      0|      1|13.12|17.425|      76|        0|     8|         6|   14|\n",
      "|2011-01-01 10:00:00|     1|      0|      0|      1|15.58|19.695|      76|  16.9979|    12|        24|   36|\n",
      "|2011-01-01 11:00:00|     1|      0|      0|      1|14.76|16.665|      81|  19.0012|    26|        30|   56|\n",
      "|2011-01-01 12:00:00|     1|      0|      0|      1|17.22| 21.21|      77|  19.0012|    29|        55|   84|\n",
      "|2011-01-01 13:00:00|     1|      0|      0|      2|18.86|22.725|      72|  19.9995|    47|        47|   94|\n",
      "|2011-01-01 14:00:00|     1|      0|      0|      2|18.86|22.725|      72|  19.0012|    35|        71|  106|\n",
      "|2011-01-01 15:00:00|     1|      0|      0|      2|18.04| 21.97|      77|  19.9995|    40|        70|  110|\n",
      "|2011-01-01 16:00:00|     1|      0|      0|      2|17.22| 21.21|      82|  19.9995|    41|        52|   93|\n",
      "|2011-01-01 17:00:00|     1|      0|      0|      2|18.04| 21.97|      82|  19.0012|    15|        52|   67|\n",
      "|2011-01-01 18:00:00|     1|      0|      0|      3|17.22| 21.21|      88|  16.9979|     9|        26|   35|\n",
      "|2011-01-01 19:00:00|     1|      0|      0|      3|17.22| 21.21|      88|  16.9979|     6|        31|   37|\n",
      "+-------------------+------+-------+-------+-------+-----+------+--------+---------+------+----------+-----+\n",
      "only showing top 20 rows\n",
      "\n"
     ]
    }
   ],
   "source": [
    "# Import in the relevant types.\n",
    "from pyspark.sql.types import (StructField,StringType,IntegerType,StructType)\n",
    "df.show() "
   ]
  },
  {
   "cell_type": "code",
   "execution_count": 12,
   "id": "3047543a",
   "metadata": {},
   "outputs": [
    {
     "name": "stdout",
     "output_type": "stream",
     "text": [
      "+------+-------+-------+-------+-----+------+--------+---------+------+----------+-----+----+-----+---+----+\n",
      "|season|holiday|workday|weather| temp| atemp|humidity|windspeed|casual|registered|count|Year|Month|Day|Hour|\n",
      "+------+-------+-------+-------+-----+------+--------+---------+------+----------+-----+----+-----+---+----+\n",
      "|     1|      0|      0|      1| 9.84|14.395|      81|        0|     3|        13|   16|2011|   01| 01|  01|\n",
      "|     1|      0|      0|      1| 9.02|13.635|      80|        0|     8|        32|   40|2011|   01| 01|  01|\n",
      "|     1|      0|      0|      1| 9.02|13.635|      80|        0|     5|        27|   32|2011|   01| 01|  01|\n",
      "|     1|      0|      0|      1| 9.84|14.395|      75|        0|     3|        10|   13|2011|   01| 01|  01|\n",
      "|     1|      0|      0|      1| 9.84|14.395|      75|        0|     0|         1|    1|2011|   01| 01|  01|\n",
      "|     1|      0|      0|      2| 9.84| 12.88|      75|   6.0032|     0|         1|    1|2011|   01| 01|  01|\n",
      "|     1|      0|      0|      1| 9.02|13.635|      80|        0|     2|         0|    2|2011|   01| 01|  01|\n",
      "|     1|      0|      0|      1|  8.2| 12.88|      86|        0|     1|         2|    3|2011|   01| 01|  01|\n",
      "|     1|      0|      0|      1| 9.84|14.395|      75|        0|     1|         7|    8|2011|   01| 01|  01|\n",
      "|     1|      0|      0|      1|13.12|17.425|      76|        0|     8|         6|   14|2011|   01| 01|  01|\n",
      "|     1|      0|      0|      1|15.58|19.695|      76|  16.9979|    12|        24|   36|2011|   01| 01|  01|\n",
      "|     1|      0|      0|      1|14.76|16.665|      81|  19.0012|    26|        30|   56|2011|   01| 01|  01|\n",
      "|     1|      0|      0|      1|17.22| 21.21|      77|  19.0012|    29|        55|   84|2011|   01| 01|  01|\n",
      "|     1|      0|      0|      2|18.86|22.725|      72|  19.9995|    47|        47|   94|2011|   01| 01|  01|\n",
      "|     1|      0|      0|      2|18.86|22.725|      72|  19.0012|    35|        71|  106|2011|   01| 01|  01|\n",
      "|     1|      0|      0|      2|18.04| 21.97|      77|  19.9995|    40|        70|  110|2011|   01| 01|  01|\n",
      "|     1|      0|      0|      2|17.22| 21.21|      82|  19.9995|    41|        52|   93|2011|   01| 01|  01|\n",
      "|     1|      0|      0|      2|18.04| 21.97|      82|  19.0012|    15|        52|   67|2011|   01| 01|  01|\n",
      "|     1|      0|      0|      3|17.22| 21.21|      88|  16.9979|     9|        26|   35|2011|   01| 01|  01|\n",
      "|     1|      0|      0|      3|17.22| 21.21|      88|  16.9979|     6|        31|   37|2011|   01| 01|  01|\n",
      "+------+-------+-------+-------+-----+------+--------+---------+------+----------+-----+----+-----+---+----+\n",
      "only showing top 20 rows\n",
      "\n"
     ]
    }
   ],
   "source": [
    "#Split datetime varaible into Year, Month, Day and Hour\n",
    "from pyspark.sql.functions import split\n",
    "\n",
    "split_col = split(df['datetime'], '-')\n",
    "\n",
    "df = df.withColumn('Year', split_col.getItem(0))\n",
    "df = df.withColumn('Month', split_col.getItem(1))\n",
    "df = df.withColumn('Day_Time', split_col.getItem(2))\n",
    "\n",
    "\n",
    "split_col = split(df['Day_Time'], '\\s+')\n",
    "df = df.withColumn('Day', split_col.getItem(0))\n",
    "df = df.withColumn('Hour', split_col.getItem(0))\n",
    "\n",
    "df = df.drop('datetime')\n",
    "df = df.drop('Day_Time')\n",
    "df.show() \n"
   ]
  },
  {
   "cell_type": "code",
   "execution_count": 24,
   "id": "549b7f84",
   "metadata": {},
   "outputs": [
    {
     "name": "stdout",
     "output_type": "stream",
     "text": [
      "root\n",
      " |-- season: integer (nullable = true)\n",
      " |-- holiday: boolean (nullable = true)\n",
      " |-- workday: boolean (nullable = true)\n",
      " |-- weather: integer (nullable = true)\n",
      " |-- temp: float (nullable = true)\n",
      " |-- atemp: float (nullable = true)\n",
      " |-- humidity: integer (nullable = true)\n",
      " |-- windspeed: float (nullable = true)\n",
      " |-- casual: integer (nullable = true)\n",
      " |-- registered: integer (nullable = true)\n",
      " |-- count: integer (nullable = true)\n",
      " |-- Year: integer (nullable = true)\n",
      " |-- Month: integer (nullable = true)\n",
      " |-- Day: integer (nullable = true)\n",
      " |-- Hour: integer (nullable = true)\n",
      "\n"
     ]
    }
   ],
   "source": [
    "from pyspark.sql.types import StringType, IntegerType, FloatType, BooleanType\n",
    "\n",
    "df = df.withColumn(\"season\" ,df[\"season\"].cast(IntegerType()))\n",
    "df = df.withColumn(\"holiday\" ,df[\"holiday\"].cast(BooleanType()))\n",
    "df = df.withColumn(\"workday\" ,df[\"workday\"].cast(BooleanType()))\n",
    "df = df.withColumn(\"weather\" ,df[\"weather\"].cast(IntegerType()))\n",
    "df = df.withColumn(\"temp\" ,df[\"temp\"].cast(FloatType()))\n",
    "df = df.withColumn(\"atemp\" ,df[\"atemp\"].cast(FloatType()))\n",
    "df = df.withColumn(\"humidity\" ,df[\"humidity\"].cast(IntegerType()))\n",
    "df = df.withColumn(\"windspeed\" ,df[\"windspeed\"].cast(FloatType()))\n",
    "df = df.withColumn(\"casual\" ,df[\"casual\"].cast(IntegerType()))\n",
    "df = df.withColumn(\"registered\" ,df[\"registered\"].cast(IntegerType()))\n",
    "df = df.withColumn(\"count\" ,df[\"count\"].cast(IntegerType()))\n",
    "df = df.withColumn(\"Year\" ,df[\"Year\"].cast(IntegerType()))\n",
    "df = df.withColumn(\"Month\" ,df[\"Month\"].cast(IntegerType()))\n",
    "df = df.withColumn(\"Day\" ,df[\"Day\"].cast(IntegerType()))\n",
    "df = df.withColumn(\"Hour\" ,df[\"Hour\"].cast(IntegerType()))\n",
    "\n",
    "\n",
    "df.printSchema()"
   ]
  },
  {
   "cell_type": "code",
   "execution_count": 25,
   "id": "cce9789c",
   "metadata": {},
   "outputs": [
    {
     "name": "stdout",
     "output_type": "stream",
     "text": [
      "+------+-------+-------+-------+-----+------+--------+---------+------+----------+-----+----+-----+---+----+\n",
      "|season|holiday|workday|weather| temp| atemp|humidity|windspeed|casual|registered|count|Year|Month|Day|Hour|\n",
      "+------+-------+-------+-------+-----+------+--------+---------+------+----------+-----+----+-----+---+----+\n",
      "|     1|  false|  false|      1| 9.84|14.395|      81|      0.0|     3|        13|   16|2011|    1|  1|   1|\n",
      "|     1|  false|  false|      1| 9.02|13.635|      80|      0.0|     8|        32|   40|2011|    1|  1|   1|\n",
      "|     1|  false|  false|      1| 9.02|13.635|      80|      0.0|     5|        27|   32|2011|    1|  1|   1|\n",
      "|     1|  false|  false|      1| 9.84|14.395|      75|      0.0|     3|        10|   13|2011|    1|  1|   1|\n",
      "|     1|  false|  false|      1| 9.84|14.395|      75|      0.0|     0|         1|    1|2011|    1|  1|   1|\n",
      "|     1|  false|  false|      2| 9.84| 12.88|      75|   6.0032|     0|         1|    1|2011|    1|  1|   1|\n",
      "|     1|  false|  false|      1| 9.02|13.635|      80|      0.0|     2|         0|    2|2011|    1|  1|   1|\n",
      "|     1|  false|  false|      1|  8.2| 12.88|      86|      0.0|     1|         2|    3|2011|    1|  1|   1|\n",
      "|     1|  false|  false|      1| 9.84|14.395|      75|      0.0|     1|         7|    8|2011|    1|  1|   1|\n",
      "|     1|  false|  false|      1|13.12|17.425|      76|      0.0|     8|         6|   14|2011|    1|  1|   1|\n",
      "|     1|  false|  false|      1|15.58|19.695|      76|  16.9979|    12|        24|   36|2011|    1|  1|   1|\n",
      "|     1|  false|  false|      1|14.76|16.665|      81|  19.0012|    26|        30|   56|2011|    1|  1|   1|\n",
      "|     1|  false|  false|      1|17.22| 21.21|      77|  19.0012|    29|        55|   84|2011|    1|  1|   1|\n",
      "|     1|  false|  false|      2|18.86|22.725|      72|  19.9995|    47|        47|   94|2011|    1|  1|   1|\n",
      "|     1|  false|  false|      2|18.86|22.725|      72|  19.0012|    35|        71|  106|2011|    1|  1|   1|\n",
      "|     1|  false|  false|      2|18.04| 21.97|      77|  19.9995|    40|        70|  110|2011|    1|  1|   1|\n",
      "|     1|  false|  false|      2|17.22| 21.21|      82|  19.9995|    41|        52|   93|2011|    1|  1|   1|\n",
      "|     1|  false|  false|      2|18.04| 21.97|      82|  19.0012|    15|        52|   67|2011|    1|  1|   1|\n",
      "|     1|  false|  false|      3|17.22| 21.21|      88|  16.9979|     9|        26|   35|2011|    1|  1|   1|\n",
      "|     1|  false|  false|      3|17.22| 21.21|      88|  16.9979|     6|        31|   37|2011|    1|  1|   1|\n",
      "+------+-------+-------+-------+-----+------+--------+---------+------+----------+-----+----+-----+---+----+\n",
      "only showing top 20 rows\n",
      "\n"
     ]
    }
   ],
   "source": [
    "df.show()"
   ]
  },
  {
   "cell_type": "code",
   "execution_count": null,
   "id": "af55fc29",
   "metadata": {},
   "outputs": [],
   "source": []
  }
 ],
 "metadata": {
  "kernelspec": {
   "display_name": "Python 3 (ipykernel)",
   "language": "python",
   "name": "python3"
  },
  "language_info": {
   "codemirror_mode": {
    "name": "ipython",
    "version": 3
   },
   "file_extension": ".py",
   "mimetype": "text/x-python",
   "name": "python",
   "nbconvert_exporter": "python",
   "pygments_lexer": "ipython3",
   "version": "3.10.4"
  }
 },
 "nbformat": 4,
 "nbformat_minor": 5
}
