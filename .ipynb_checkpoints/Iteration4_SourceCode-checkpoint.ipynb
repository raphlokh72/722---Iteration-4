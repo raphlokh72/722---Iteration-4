{
 "cells": [
  {
   "cell_type": "markdown",
   "id": "387a1285",
   "metadata": {},
   "source": [
    "# 01 - Business Understanding\n"
   ]
  },
  {
   "cell_type": "markdown",
   "id": "6168ff0b",
   "metadata": {},
   "source": [
    "Using Data Mining the aim is to idenity and predict the factors \n",
    "which affect the use of bike-sharing rental services "
   ]
  },
  {
   "cell_type": "markdown",
   "id": "f6fcd3e7",
   "metadata": {},
   "source": [
    "# 02 -Data Exploration "
   ]
  },
  {
   "cell_type": "code",
   "execution_count": 1,
   "id": "b68875c0",
   "metadata": {},
   "outputs": [
    {
     "name": "stderr",
     "output_type": "stream",
     "text": [
      "WARNING: An illegal reflective access operation has occurred\n",
      "WARNING: Illegal reflective access by org.apache.spark.unsafe.Platform (file:/home/ubuntu/spark-3.2.1-bin-hadoop2.7/jars/spark-unsafe_2.12-3.2.1.jar) to constructor java.nio.DirectByteBuffer(long,int)\n",
      "WARNING: Please consider reporting this to the maintainers of org.apache.spark.unsafe.Platform\n",
      "WARNING: Use --illegal-access=warn to enable warnings of further illegal reflective access operations\n",
      "WARNING: All illegal access operations will be denied in a future release\n",
      "Using Spark's default log4j profile: org/apache/spark/log4j-defaults.properties\n",
      "Setting default log level to \"WARN\".\n",
      "To adjust logging level use sc.setLogLevel(newLevel). For SparkR, use setLogLevel(newLevel).\n",
      "24/05/24 05:37:09 WARN NativeCodeLoader: Unable to load native-hadoop library for your platform... using builtin-java classes where applicable\n"
     ]
    }
   ],
   "source": [
    "import findspark\n",
    "findspark.init('/home/ubuntu/spark-3.2.1-bin-hadoop2.7')\n",
    "import pyspark\n",
    "from pyspark.sql import SparkSession\n",
    "spark = SparkSession.builder.appName('basics').getOrCreate()\n",
    "\n",
    "import pandas as pd\n",
    "import seaborn as sns\n",
    "import matplotlib.pyplot as plt"
   ]
  },
  {
   "cell_type": "code",
   "execution_count": 2,
   "id": "7359a604",
   "metadata": {},
   "outputs": [],
   "source": [
    "df = spark.read.csv('train.csv')\n",
    "\n",
    "df_pd = pd.read_csv('train.csv')"
   ]
  },
  {
   "cell_type": "code",
   "execution_count": 3,
   "id": "2334d9ee",
   "metadata": {},
   "outputs": [
    {
     "name": "stdout",
     "output_type": "stream",
     "text": [
      "+-------------------+------+-------+----------+-------+-----+------+--------+---------+------+----------+-----+\n",
      "|                _c0|   _c1|    _c2|       _c3|    _c4|  _c5|   _c6|     _c7|      _c8|   _c9|      _c10| _c11|\n",
      "+-------------------+------+-------+----------+-------+-----+------+--------+---------+------+----------+-----+\n",
      "|           datetime|season|holiday|workingday|weather| temp| atemp|humidity|windspeed|casual|registered|count|\n",
      "|2011-01-01 00:00:00|     1|      0|         0|      1| 9.84|14.395|      81|        0|     3|        13|   16|\n",
      "|2011-01-01 01:00:00|     1|      0|         0|      1| 9.02|13.635|      80|        0|     8|        32|   40|\n",
      "|2011-01-01 02:00:00|     1|      0|         0|      1| 9.02|13.635|      80|        0|     5|        27|   32|\n",
      "|2011-01-01 03:00:00|     1|      0|         0|      1| 9.84|14.395|      75|        0|     3|        10|   13|\n",
      "|2011-01-01 04:00:00|     1|      0|         0|      1| 9.84|14.395|      75|        0|     0|         1|    1|\n",
      "|2011-01-01 05:00:00|     1|      0|         0|      2| 9.84| 12.88|      75|   6.0032|     0|         1|    1|\n",
      "|2011-01-01 06:00:00|     1|      0|         0|      1| 9.02|13.635|      80|        0|     2|         0|    2|\n",
      "|2011-01-01 07:00:00|     1|      0|         0|      1|  8.2| 12.88|      86|        0|     1|         2|    3|\n",
      "|2011-01-01 08:00:00|     1|      0|         0|      1| 9.84|14.395|      75|        0|     1|         7|    8|\n",
      "|2011-01-01 09:00:00|     1|      0|         0|      1|13.12|17.425|      76|        0|     8|         6|   14|\n",
      "|2011-01-01 10:00:00|     1|      0|         0|      1|15.58|19.695|      76|  16.9979|    12|        24|   36|\n",
      "|2011-01-01 11:00:00|     1|      0|         0|      1|14.76|16.665|      81|  19.0012|    26|        30|   56|\n",
      "|2011-01-01 12:00:00|     1|      0|         0|      1|17.22| 21.21|      77|  19.0012|    29|        55|   84|\n",
      "|2011-01-01 13:00:00|     1|      0|         0|      2|18.86|22.725|      72|  19.9995|    47|        47|   94|\n",
      "|2011-01-01 14:00:00|     1|      0|         0|      2|18.86|22.725|      72|  19.0012|    35|        71|  106|\n",
      "|2011-01-01 15:00:00|     1|      0|         0|      2|18.04| 21.97|      77|  19.9995|    40|        70|  110|\n",
      "|2011-01-01 16:00:00|     1|      0|         0|      2|17.22| 21.21|      82|  19.9995|    41|        52|   93|\n",
      "|2011-01-01 17:00:00|     1|      0|         0|      2|18.04| 21.97|      82|  19.0012|    15|        52|   67|\n",
      "|2011-01-01 18:00:00|     1|      0|         0|      3|17.22| 21.21|      88|  16.9979|     9|        26|   35|\n",
      "+-------------------+------+-------+----------+-------+-----+------+--------+---------+------+----------+-----+\n",
      "only showing top 20 rows\n",
      "\n"
     ]
    },
    {
     "data": {
      "text/plain": [
       "['_c0',\n",
       " '_c1',\n",
       " '_c2',\n",
       " '_c3',\n",
       " '_c4',\n",
       " '_c5',\n",
       " '_c6',\n",
       " '_c7',\n",
       " '_c8',\n",
       " '_c9',\n",
       " '_c10',\n",
       " '_c11']"
      ]
     },
     "execution_count": 3,
     "metadata": {},
     "output_type": "execute_result"
    }
   ],
   "source": [
    "df.show()\n",
    "\n",
    "df.columns "
   ]
  },
  {
   "cell_type": "code",
   "execution_count": 4,
   "id": "310d557e",
   "metadata": {},
   "outputs": [
    {
     "name": "stdout",
     "output_type": "stream",
     "text": [
      "+-------------------+------+-------+----------+-------+-----+----------+--------+---------+------+----------+-----+\n",
      "|           datetime|season|holiday|   workday|weather| temp|feels_temp|humidity|windspeed|casual|registered|count|\n",
      "+-------------------+------+-------+----------+-------+-----+----------+--------+---------+------+----------+-----+\n",
      "|           datetime|season|holiday|workingday|weather| temp|     atemp|humidity|windspeed|casual|registered|count|\n",
      "|2011-01-01 00:00:00|     1|      0|         0|      1| 9.84|    14.395|      81|        0|     3|        13|   16|\n",
      "|2011-01-01 01:00:00|     1|      0|         0|      1| 9.02|    13.635|      80|        0|     8|        32|   40|\n",
      "|2011-01-01 02:00:00|     1|      0|         0|      1| 9.02|    13.635|      80|        0|     5|        27|   32|\n",
      "|2011-01-01 03:00:00|     1|      0|         0|      1| 9.84|    14.395|      75|        0|     3|        10|   13|\n",
      "|2011-01-01 04:00:00|     1|      0|         0|      1| 9.84|    14.395|      75|        0|     0|         1|    1|\n",
      "|2011-01-01 05:00:00|     1|      0|         0|      2| 9.84|     12.88|      75|   6.0032|     0|         1|    1|\n",
      "|2011-01-01 06:00:00|     1|      0|         0|      1| 9.02|    13.635|      80|        0|     2|         0|    2|\n",
      "|2011-01-01 07:00:00|     1|      0|         0|      1|  8.2|     12.88|      86|        0|     1|         2|    3|\n",
      "|2011-01-01 08:00:00|     1|      0|         0|      1| 9.84|    14.395|      75|        0|     1|         7|    8|\n",
      "|2011-01-01 09:00:00|     1|      0|         0|      1|13.12|    17.425|      76|        0|     8|         6|   14|\n",
      "|2011-01-01 10:00:00|     1|      0|         0|      1|15.58|    19.695|      76|  16.9979|    12|        24|   36|\n",
      "|2011-01-01 11:00:00|     1|      0|         0|      1|14.76|    16.665|      81|  19.0012|    26|        30|   56|\n",
      "|2011-01-01 12:00:00|     1|      0|         0|      1|17.22|     21.21|      77|  19.0012|    29|        55|   84|\n",
      "|2011-01-01 13:00:00|     1|      0|         0|      2|18.86|    22.725|      72|  19.9995|    47|        47|   94|\n",
      "|2011-01-01 14:00:00|     1|      0|         0|      2|18.86|    22.725|      72|  19.0012|    35|        71|  106|\n",
      "|2011-01-01 15:00:00|     1|      0|         0|      2|18.04|     21.97|      77|  19.9995|    40|        70|  110|\n",
      "|2011-01-01 16:00:00|     1|      0|         0|      2|17.22|     21.21|      82|  19.9995|    41|        52|   93|\n",
      "|2011-01-01 17:00:00|     1|      0|         0|      2|18.04|     21.97|      82|  19.0012|    15|        52|   67|\n",
      "|2011-01-01 18:00:00|     1|      0|         0|      3|17.22|     21.21|      88|  16.9979|     9|        26|   35|\n",
      "+-------------------+------+-------+----------+-------+-----+----------+--------+---------+------+----------+-----+\n",
      "only showing top 20 rows\n",
      "\n"
     ]
    }
   ],
   "source": [
    "# rename columns \n",
    "df = df.withColumnRenamed('_c0', 'datetime')\n",
    "df = df.withColumnRenamed('_c1', 'season')\n",
    "df = df.withColumnRenamed('_c2', 'holiday')\n",
    "df = df.withColumnRenamed('_c3', 'workday')\n",
    "df = df.withColumnRenamed('_c4', 'weather')\n",
    "df = df.withColumnRenamed('_c5', 'temp')\n",
    "df = df.withColumnRenamed('_c6', 'feels_temp')\n",
    "df = df.withColumnRenamed('_c7', 'humidity')\n",
    "df = df.withColumnRenamed('_c8', 'windspeed')\n",
    "df = df.withColumnRenamed('_c9', 'casual')\n",
    "df = df.withColumnRenamed('_c10', 'registered')\n",
    "df = df.withColumnRenamed('_c11', 'count')\n",
    "\n",
    "df.show()\n",
    "\n"
   ]
  },
  {
   "cell_type": "code",
   "execution_count": 5,
   "id": "e1965e0b",
   "metadata": {},
   "outputs": [
    {
     "name": "stdout",
     "output_type": "stream",
     "text": [
      "+-------------------+------+-------+-------+-------+-----+----------+--------+---------+------+----------+-----+\n",
      "|           datetime|season|holiday|workday|weather| temp|feels_temp|humidity|windspeed|casual|registered|count|\n",
      "+-------------------+------+-------+-------+-------+-----+----------+--------+---------+------+----------+-----+\n",
      "|2011-01-01 00:00:00|     1|      0|      0|      1| 9.84|    14.395|      81|        0|     3|        13|   16|\n",
      "|2011-01-01 01:00:00|     1|      0|      0|      1| 9.02|    13.635|      80|        0|     8|        32|   40|\n",
      "|2011-01-01 02:00:00|     1|      0|      0|      1| 9.02|    13.635|      80|        0|     5|        27|   32|\n",
      "|2011-01-01 03:00:00|     1|      0|      0|      1| 9.84|    14.395|      75|        0|     3|        10|   13|\n",
      "|2011-01-01 04:00:00|     1|      0|      0|      1| 9.84|    14.395|      75|        0|     0|         1|    1|\n",
      "|2011-01-01 05:00:00|     1|      0|      0|      2| 9.84|     12.88|      75|   6.0032|     0|         1|    1|\n",
      "|2011-01-01 06:00:00|     1|      0|      0|      1| 9.02|    13.635|      80|        0|     2|         0|    2|\n",
      "|2011-01-01 07:00:00|     1|      0|      0|      1|  8.2|     12.88|      86|        0|     1|         2|    3|\n",
      "|2011-01-01 08:00:00|     1|      0|      0|      1| 9.84|    14.395|      75|        0|     1|         7|    8|\n",
      "|2011-01-01 09:00:00|     1|      0|      0|      1|13.12|    17.425|      76|        0|     8|         6|   14|\n",
      "|2011-01-01 10:00:00|     1|      0|      0|      1|15.58|    19.695|      76|  16.9979|    12|        24|   36|\n",
      "|2011-01-01 11:00:00|     1|      0|      0|      1|14.76|    16.665|      81|  19.0012|    26|        30|   56|\n",
      "|2011-01-01 12:00:00|     1|      0|      0|      1|17.22|     21.21|      77|  19.0012|    29|        55|   84|\n",
      "|2011-01-01 13:00:00|     1|      0|      0|      2|18.86|    22.725|      72|  19.9995|    47|        47|   94|\n",
      "|2011-01-01 14:00:00|     1|      0|      0|      2|18.86|    22.725|      72|  19.0012|    35|        71|  106|\n",
      "|2011-01-01 15:00:00|     1|      0|      0|      2|18.04|     21.97|      77|  19.9995|    40|        70|  110|\n",
      "|2011-01-01 16:00:00|     1|      0|      0|      2|17.22|     21.21|      82|  19.9995|    41|        52|   93|\n",
      "|2011-01-01 17:00:00|     1|      0|      0|      2|18.04|     21.97|      82|  19.0012|    15|        52|   67|\n",
      "|2011-01-01 18:00:00|     1|      0|      0|      3|17.22|     21.21|      88|  16.9979|     9|        26|   35|\n",
      "|2011-01-01 19:00:00|     1|      0|      0|      3|17.22|     21.21|      88|  16.9979|     6|        31|   37|\n",
      "+-------------------+------+-------+-------+-------+-----+----------+--------+---------+------+----------+-----+\n",
      "only showing top 20 rows\n",
      "\n"
     ]
    },
    {
     "data": {
      "text/plain": [
       "['datetime',\n",
       " 'season',\n",
       " 'holiday',\n",
       " 'workday',\n",
       " 'weather',\n",
       " 'temp',\n",
       " 'feels_temp',\n",
       " 'humidity',\n",
       " 'windspeed',\n",
       " 'casual',\n",
       " 'registered',\n",
       " 'count']"
      ]
     },
     "execution_count": 5,
     "metadata": {},
     "output_type": "execute_result"
    }
   ],
   "source": [
    "#Filter out initial row as it is column lable \n",
    "df = df.filter(df.datetime!='datetime')\n",
    "\n",
    "df.show()\n",
    "\n",
    "df.columns"
   ]
  },
  {
   "cell_type": "code",
   "execution_count": 6,
   "id": "8a6a77c3",
   "metadata": {
    "scrolled": false
   },
   "outputs": [
    {
     "name": "stderr",
     "output_type": "stream",
     "text": [
      "                                                                                \r"
     ]
    },
    {
     "name": "stdout",
     "output_type": "stream",
     "text": [
      "+-------+-------------------+------------------+-------------------+------------------+\n",
      "|summary|           datetime|            season|            holiday|           workday|\n",
      "+-------+-------------------+------------------+-------------------+------------------+\n",
      "|  count|              10886|             10886|              10886|             10886|\n",
      "|   mean|               null|2.5066139996325556|0.02856880396839978|0.6808745177291935|\n",
      "| stddev|               null|1.1161743093443237|0.16659885062470944|0.4661591687997361|\n",
      "|    min|2011-01-01 00:00:00|                 1|                  0|                 0|\n",
      "|    25%|               null|               2.0|                0.0|               0.0|\n",
      "|    50%|               null|               3.0|                0.0|               1.0|\n",
      "|    75%|               null|               4.0|                0.0|               1.0|\n",
      "|    max|2012-12-19 23:00:00|                 4|                  1|                 1|\n",
      "+-------+-------------------+------------------+-------------------+------------------+\n",
      "\n",
      "+-------+------------------+------------------+-----------------+------------------+------------------+\n",
      "|summary|           weather|              temp|       feels_temp|          humidity|         windspeed|\n",
      "+-------+------------------+------------------+-----------------+------------------+------------------+\n",
      "|  count|             10886|             10886|            10886|             10886|             10886|\n",
      "|   mean| 1.418427337865148|20.230859819952173|23.65508405291192| 61.88645967297446|12.799395406945093|\n",
      "| stddev|0.6338385858190968| 7.791589843987573| 8.47460062648494|19.245033277394704|  8.16453732683871|\n",
      "|    min|                 1|              0.82|             0.76|                 0|                 0|\n",
      "|    25%|               1.0|             13.94|           16.665|              47.0|            7.0015|\n",
      "|    50%|               1.0|              20.5|            24.24|              62.0|            12.998|\n",
      "|    75%|               2.0|             26.24|            31.06|              77.0|           16.9979|\n",
      "|    max|                 4|              9.84|             9.85|                97|            8.9981|\n",
      "+-------+------------------+------------------+-----------------+------------------+------------------+\n",
      "\n",
      "+-------+-----------------+------------------+------------------+\n",
      "|summary|           casual|        registered|             count|\n",
      "+-------+-----------------+------------------+------------------+\n",
      "|  count|            10886|             10886|             10886|\n",
      "|   mean|36.02195480433584| 155.5521771082124|191.57413191254824|\n",
      "| stddev|49.96047657264955|151.03903308192452|181.14445383028493|\n",
      "|    min|                0|                 0|                 1|\n",
      "|    25%|              4.0|              36.0|              42.0|\n",
      "|    50%|             17.0|             118.0|             145.0|\n",
      "|    75%|             49.0|             222.0|             284.0|\n",
      "|    max|               99|                99|                99|\n",
      "+-------+-----------------+------------------+------------------+\n",
      "\n"
     ]
    }
   ],
   "source": [
    "#Dataframe Components Summary \n",
    "\n",
    "df.select(\"datetime\", \"season\", 'holiday', 'workday').summary().show()\n",
    "df.select('weather',\"temp\", \"feels_temp\", 'humidity', 'windspeed').summary().show()\n",
    "df.select(\"casual\", \"registered\", 'count',).summary().show()"
   ]
  },
  {
   "cell_type": "code",
   "execution_count": 7,
   "id": "a436005a",
   "metadata": {},
   "outputs": [
    {
     "name": "stdout",
     "output_type": "stream",
     "text": [
      "root\n",
      " |-- datetime: string (nullable = true)\n",
      " |-- season: string (nullable = true)\n",
      " |-- holiday: string (nullable = true)\n",
      " |-- workday: string (nullable = true)\n",
      " |-- weather: string (nullable = true)\n",
      " |-- temp: string (nullable = true)\n",
      " |-- feels_temp: string (nullable = true)\n",
      " |-- humidity: string (nullable = true)\n",
      " |-- windspeed: string (nullable = true)\n",
      " |-- casual: string (nullable = true)\n",
      " |-- registered: string (nullable = true)\n",
      " |-- count: string (nullable = true)\n",
      "\n",
      "<class 'pandas.core.frame.DataFrame'>\n",
      "RangeIndex: 10886 entries, 0 to 10885\n",
      "Data columns (total 12 columns):\n",
      " #   Column      Non-Null Count  Dtype  \n",
      "---  ------      --------------  -----  \n",
      " 0   datetime    10886 non-null  object \n",
      " 1   season      10886 non-null  int64  \n",
      " 2   holiday     10886 non-null  int64  \n",
      " 3   workingday  10886 non-null  int64  \n",
      " 4   weather     10886 non-null  int64  \n",
      " 5   temp        10886 non-null  float64\n",
      " 6   atemp       10886 non-null  float64\n",
      " 7   humidity    10886 non-null  int64  \n",
      " 8   windspeed   10886 non-null  float64\n",
      " 9   casual      10886 non-null  int64  \n",
      " 10  registered  10886 non-null  int64  \n",
      " 11  count       10886 non-null  int64  \n",
      "dtypes: float64(3), int64(8), object(1)\n",
      "memory usage: 1020.7+ KB\n"
     ]
    }
   ],
   "source": [
    "df.printSchema()\n",
    "\n",
    "df_pd.info()\n"
   ]
  },
  {
   "cell_type": "code",
   "execution_count": 8,
   "id": "5555d15c",
   "metadata": {},
   "outputs": [
    {
     "name": "stdout",
     "output_type": "stream",
     "text": [
      "Null value counts in DataFrame:\n",
      "datetime      0\n",
      "season        0\n",
      "holiday       0\n",
      "workday       0\n",
      "weather       0\n",
      "temp          0\n",
      "feels_temp    0\n",
      "humidity      0\n",
      "windspeed     0\n",
      "casual        0\n",
      "registered    0\n",
      "count         0\n",
      "dtype: int64\n"
     ]
    }
   ],
   "source": [
    "#Check if there are any null or missing values\n",
    "from pyspark.sql.functions import col\n",
    "\n",
    "null_counts = df.select([col(column).isNull().alias(column) for column in df.columns]).toPandas().sum()\n",
    "print(\"Null value counts in DataFrame:\")\n",
    "print(null_counts)"
   ]
  },
  {
   "cell_type": "code",
   "execution_count": 9,
   "id": "440bb0c0",
   "metadata": {},
   "outputs": [
    {
     "name": "stdout",
     "output_type": "stream",
     "text": [
      "+-------+------------------+\n",
      "|summary|             count|\n",
      "+-------+------------------+\n",
      "|  count|             10886|\n",
      "|   mean|191.57413191254824|\n",
      "| stddev|181.14445383028493|\n",
      "|    min|                 1|\n",
      "|    25%|              42.0|\n",
      "|    50%|             145.0|\n",
      "|    75%|             284.0|\n",
      "|    max|                99|\n",
      "+-------+------------------+\n",
      "\n"
     ]
    },
    {
     "data": {
      "text/plain": [
       "<AxesSubplot:ylabel='Frequency'>"
      ]
     },
     "execution_count": 9,
     "metadata": {},
     "output_type": "execute_result"
    },
    {
     "data": {
      "image/png": "[encoded data removed]",
      "text/plain": [
       "<Figure size 432x288 with 1 Axes>"
      ]
     },
     "metadata": {
      "needs_background": "light"
     },
     "output_type": "display_data"
    }
   ],
   "source": [
    "df.select('count',).summary().show()\n",
    "df_pd['count'].plot.hist()"
   ]
  },
  {
   "cell_type": "code",
   "execution_count": 10,
   "id": "44ea7a7c",
   "metadata": {},
   "outputs": [
    {
     "data": {
      "text/plain": [
       "<AxesSubplot:ylabel='season'>"
      ]
     },
     "execution_count": 10,
     "metadata": {},
     "output_type": "execute_result"
    },
    {
     "data": {
      "image/png": "[encoded data removed]",
      "text/plain": [
       "<Figure size 432x288 with 1 Axes>"
      ]
     },
     "metadata": {},
     "output_type": "display_data"
    }
   ],
   "source": [
    "df_pd['season'].value_counts().plot.pie(autopct='%1.0f%%')"
   ]
  },
  {
   "cell_type": "code",
   "execution_count": 11,
   "id": "042c096c",
   "metadata": {},
   "outputs": [
    {
     "data": {
      "text/plain": [
       "<AxesSubplot:ylabel='weather'>"
      ]
     },
     "execution_count": 11,
     "metadata": {},
     "output_type": "execute_result"
    },
    {
     "data": {
      "image/png": "[encoded data removed]",
      "text/plain": [
       "<Figure size 432x288 with 1 Axes>"
      ]
     },
     "metadata": {},
     "output_type": "display_data"
    }
   ],
   "source": [
    "df_pd['weather'].value_counts().plot.pie(autopct='%1.0f%%')"
   ]
  },
  {
   "cell_type": "markdown",
   "id": "bd1d69e3",
   "metadata": {},
   "source": [
    "# 03 - Data Preparation"
   ]
  },
  {
   "cell_type": "code",
   "execution_count": 12,
   "id": "ca03c6b2",
   "metadata": {},
   "outputs": [
    {
     "name": "stdout",
     "output_type": "stream",
     "text": [
      "+-------------------+------+-------+-------+-------+-----+----------+--------+---------+------+----------+-----+\n",
      "|           datetime|season|holiday|workday|weather| temp|feels_temp|humidity|windspeed|casual|registered|count|\n",
      "+-------------------+------+-------+-------+-------+-----+----------+--------+---------+------+----------+-----+\n",
      "|2011-01-01 00:00:00|     1|      0|      0|      1| 9.84|    14.395|      81|        0|     3|        13|   16|\n",
      "|2011-01-01 01:00:00|     1|      0|      0|      1| 9.02|    13.635|      80|        0|     8|        32|   40|\n",
      "|2011-01-01 02:00:00|     1|      0|      0|      1| 9.02|    13.635|      80|        0|     5|        27|   32|\n",
      "|2011-01-01 03:00:00|     1|      0|      0|      1| 9.84|    14.395|      75|        0|     3|        10|   13|\n",
      "|2011-01-01 04:00:00|     1|      0|      0|      1| 9.84|    14.395|      75|        0|     0|         1|    1|\n",
      "|2011-01-01 05:00:00|     1|      0|      0|      2| 9.84|     12.88|      75|   6.0032|     0|         1|    1|\n",
      "|2011-01-01 06:00:00|     1|      0|      0|      1| 9.02|    13.635|      80|        0|     2|         0|    2|\n",
      "|2011-01-01 07:00:00|     1|      0|      0|      1|  8.2|     12.88|      86|        0|     1|         2|    3|\n",
      "|2011-01-01 08:00:00|     1|      0|      0|      1| 9.84|    14.395|      75|        0|     1|         7|    8|\n",
      "|2011-01-01 09:00:00|     1|      0|      0|      1|13.12|    17.425|      76|        0|     8|         6|   14|\n",
      "|2011-01-01 10:00:00|     1|      0|      0|      1|15.58|    19.695|      76|  16.9979|    12|        24|   36|\n",
      "|2011-01-01 11:00:00|     1|      0|      0|      1|14.76|    16.665|      81|  19.0012|    26|        30|   56|\n",
      "|2011-01-01 12:00:00|     1|      0|      0|      1|17.22|     21.21|      77|  19.0012|    29|        55|   84|\n",
      "|2011-01-01 13:00:00|     1|      0|      0|      2|18.86|    22.725|      72|  19.9995|    47|        47|   94|\n",
      "|2011-01-01 14:00:00|     1|      0|      0|      2|18.86|    22.725|      72|  19.0012|    35|        71|  106|\n",
      "|2011-01-01 15:00:00|     1|      0|      0|      2|18.04|     21.97|      77|  19.9995|    40|        70|  110|\n",
      "|2011-01-01 16:00:00|     1|      0|      0|      2|17.22|     21.21|      82|  19.9995|    41|        52|   93|\n",
      "|2011-01-01 17:00:00|     1|      0|      0|      2|18.04|     21.97|      82|  19.0012|    15|        52|   67|\n",
      "|2011-01-01 18:00:00|     1|      0|      0|      3|17.22|     21.21|      88|  16.9979|     9|        26|   35|\n",
      "|2011-01-01 19:00:00|     1|      0|      0|      3|17.22|     21.21|      88|  16.9979|     6|        31|   37|\n",
      "+-------------------+------+-------+-------+-------+-----+----------+--------+---------+------+----------+-----+\n",
      "only showing top 20 rows\n",
      "\n"
     ]
    }
   ],
   "source": [
    "# Import in the relevant types.\n",
    "from pyspark.sql.types import (StructField,StringType,IntegerType,StructType)\n",
    "df.show() "
   ]
  },
  {
   "cell_type": "code",
   "execution_count": 13,
   "id": "3047543a",
   "metadata": {},
   "outputs": [
    {
     "name": "stdout",
     "output_type": "stream",
     "text": [
      "+------+-------+-------+-------+-----+----------+--------+---------+------+----------+-----+----+-----+---+----+\n",
      "|season|holiday|workday|weather| temp|feels_temp|humidity|windspeed|casual|registered|count|Year|Month|Day|Hour|\n",
      "+------+-------+-------+-------+-----+----------+--------+---------+------+----------+-----+----+-----+---+----+\n",
      "|     1|      0|      0|      1| 9.84|    14.395|      81|        0|     3|        13|   16|2011|   01| 01|  00|\n",
      "|     1|      0|      0|      1| 9.02|    13.635|      80|        0|     8|        32|   40|2011|   01| 01|  01|\n",
      "|     1|      0|      0|      1| 9.02|    13.635|      80|        0|     5|        27|   32|2011|   01| 01|  02|\n",
      "|     1|      0|      0|      1| 9.84|    14.395|      75|        0|     3|        10|   13|2011|   01| 01|  03|\n",
      "|     1|      0|      0|      1| 9.84|    14.395|      75|        0|     0|         1|    1|2011|   01| 01|  04|\n",
      "|     1|      0|      0|      2| 9.84|     12.88|      75|   6.0032|     0|         1|    1|2011|   01| 01|  05|\n",
      "|     1|      0|      0|      1| 9.02|    13.635|      80|        0|     2|         0|    2|2011|   01| 01|  06|\n",
      "|     1|      0|      0|      1|  8.2|     12.88|      86|        0|     1|         2|    3|2011|   01| 01|  07|\n",
      "|     1|      0|      0|      1| 9.84|    14.395|      75|        0|     1|         7|    8|2011|   01| 01|  08|\n",
      "|     1|      0|      0|      1|13.12|    17.425|      76|        0|     8|         6|   14|2011|   01| 01|  09|\n",
      "|     1|      0|      0|      1|15.58|    19.695|      76|  16.9979|    12|        24|   36|2011|   01| 01|  10|\n",
      "|     1|      0|      0|      1|14.76|    16.665|      81|  19.0012|    26|        30|   56|2011|   01| 01|  11|\n",
      "|     1|      0|      0|      1|17.22|     21.21|      77|  19.0012|    29|        55|   84|2011|   01| 01|  12|\n",
      "|     1|      0|      0|      2|18.86|    22.725|      72|  19.9995|    47|        47|   94|2011|   01| 01|  13|\n",
      "|     1|      0|      0|      2|18.86|    22.725|      72|  19.0012|    35|        71|  106|2011|   01| 01|  14|\n",
      "|     1|      0|      0|      2|18.04|     21.97|      77|  19.9995|    40|        70|  110|2011|   01| 01|  15|\n",
      "|     1|      0|      0|      2|17.22|     21.21|      82|  19.9995|    41|        52|   93|2011|   01| 01|  16|\n",
      "|     1|      0|      0|      2|18.04|     21.97|      82|  19.0012|    15|        52|   67|2011|   01| 01|  17|\n",
      "|     1|      0|      0|      3|17.22|     21.21|      88|  16.9979|     9|        26|   35|2011|   01| 01|  18|\n",
      "|     1|      0|      0|      3|17.22|     21.21|      88|  16.9979|     6|        31|   37|2011|   01| 01|  19|\n",
      "+------+-------+-------+-------+-----+----------+--------+---------+------+----------+-----+----+-----+---+----+\n",
      "only showing top 20 rows\n",
      "\n"
     ]
    }
   ],
   "source": [
    "#Split datetime varaible into Year, Month, Day and Hour\n",
    "from pyspark.sql.functions import split\n",
    "\n",
    "split_col = split(df['datetime'], '-')\n",
    "\n",
    "df = df.withColumn('Year', split_col.getItem(0))\n",
    "df = df.withColumn('Month', split_col.getItem(1))\n",
    "df = df.withColumn('Day_Time', split_col.getItem(2))\n",
    "\n",
    "\n",
    "split_col = split(df['Day_Time'], '\\s+')\n",
    "df = df.withColumn('Day', split_col.getItem(0))\n",
    "df = df.withColumn('Time', split_col.getItem(1))\n",
    "\n",
    "split_col = split(df['Time'], ':')\n",
    "df = df.withColumn('Hour', split_col.getItem(0))\n",
    "\n",
    "df = df.drop('datetime')\n",
    "df = df.drop('Day_Time')\n",
    "df = df.drop('Time')\n",
    "df.show() \n"
   ]
  },
  {
   "cell_type": "code",
   "execution_count": 14,
   "id": "549b7f84",
   "metadata": {},
   "outputs": [
    {
     "name": "stdout",
     "output_type": "stream",
     "text": [
      "root\n",
      " |-- season: integer (nullable = true)\n",
      " |-- holiday: boolean (nullable = true)\n",
      " |-- workday: boolean (nullable = true)\n",
      " |-- weather: integer (nullable = true)\n",
      " |-- temp: float (nullable = true)\n",
      " |-- feels_temp: float (nullable = true)\n",
      " |-- humidity: integer (nullable = true)\n",
      " |-- windspeed: float (nullable = true)\n",
      " |-- casual: integer (nullable = true)\n",
      " |-- registered: integer (nullable = true)\n",
      " |-- count: integer (nullable = true)\n",
      " |-- Year: integer (nullable = true)\n",
      " |-- Month: integer (nullable = true)\n",
      " |-- Day: integer (nullable = true)\n",
      " |-- Hour: integer (nullable = true)\n",
      "\n"
     ]
    }
   ],
   "source": [
    "#Reformt Schema\n",
    "from pyspark.sql.types import StringType, IntegerType, FloatType, BooleanType\n",
    "\n",
    "df = df.withColumn(\"season\" ,df[\"season\"].cast(IntegerType()))\n",
    "df = df.withColumn(\"holiday\" ,df[\"holiday\"].cast(BooleanType()))\n",
    "df = df.withColumn(\"workday\" ,df[\"workday\"].cast(BooleanType()))\n",
    "df = df.withColumn(\"weather\" ,df[\"weather\"].cast(IntegerType()))\n",
    "df = df.withColumn(\"temp\" ,df[\"temp\"].cast(FloatType()))\n",
    "df = df.withColumn(\"feels_temp\" ,df[\"feels_temp\"].cast(FloatType()))\n",
    "df = df.withColumn(\"humidity\" ,df[\"humidity\"].cast(IntegerType()))\n",
    "df = df.withColumn(\"windspeed\" ,df[\"windspeed\"].cast(FloatType()))\n",
    "df = df.withColumn(\"casual\" ,df[\"casual\"].cast(IntegerType()))\n",
    "df = df.withColumn(\"registered\" ,df[\"registered\"].cast(IntegerType()))\n",
    "df = df.withColumn(\"count\" ,df[\"count\"].cast(IntegerType()))\n",
    "df = df.withColumn(\"Year\" ,df[\"Year\"].cast(IntegerType()))\n",
    "df = df.withColumn(\"Month\" ,df[\"Month\"].cast(IntegerType()))\n",
    "df = df.withColumn(\"Day\" ,df[\"Day\"].cast(IntegerType()))\n",
    "df = df.withColumn(\"Hour\" ,df[\"Hour\"].cast(IntegerType()))\n",
    "\n",
    "\n",
    "df.printSchema()"
   ]
  },
  {
   "cell_type": "code",
   "execution_count": 15,
   "id": "cce9789c",
   "metadata": {},
   "outputs": [
    {
     "name": "stdout",
     "output_type": "stream",
     "text": [
      "+------+-------+-------+-------+-----+----------+--------+---------+------+----------+-----+----+-----+---+----+\n",
      "|season|holiday|workday|weather| temp|feels_temp|humidity|windspeed|casual|registered|count|Year|Month|Day|Hour|\n",
      "+------+-------+-------+-------+-----+----------+--------+---------+------+----------+-----+----+-----+---+----+\n",
      "|     1|  false|  false|      1| 9.84|    14.395|      81|      0.0|     3|        13|   16|2011|    1|  1|   0|\n",
      "|     1|  false|  false|      1| 9.02|    13.635|      80|      0.0|     8|        32|   40|2011|    1|  1|   1|\n",
      "|     1|  false|  false|      1| 9.02|    13.635|      80|      0.0|     5|        27|   32|2011|    1|  1|   2|\n",
      "|     1|  false|  false|      1| 9.84|    14.395|      75|      0.0|     3|        10|   13|2011|    1|  1|   3|\n",
      "|     1|  false|  false|      1| 9.84|    14.395|      75|      0.0|     0|         1|    1|2011|    1|  1|   4|\n",
      "|     1|  false|  false|      2| 9.84|     12.88|      75|   6.0032|     0|         1|    1|2011|    1|  1|   5|\n",
      "|     1|  false|  false|      1| 9.02|    13.635|      80|      0.0|     2|         0|    2|2011|    1|  1|   6|\n",
      "|     1|  false|  false|      1|  8.2|     12.88|      86|      0.0|     1|         2|    3|2011|    1|  1|   7|\n",
      "|     1|  false|  false|      1| 9.84|    14.395|      75|      0.0|     1|         7|    8|2011|    1|  1|   8|\n",
      "|     1|  false|  false|      1|13.12|    17.425|      76|      0.0|     8|         6|   14|2011|    1|  1|   9|\n",
      "|     1|  false|  false|      1|15.58|    19.695|      76|  16.9979|    12|        24|   36|2011|    1|  1|  10|\n",
      "|     1|  false|  false|      1|14.76|    16.665|      81|  19.0012|    26|        30|   56|2011|    1|  1|  11|\n",
      "|     1|  false|  false|      1|17.22|     21.21|      77|  19.0012|    29|        55|   84|2011|    1|  1|  12|\n",
      "|     1|  false|  false|      2|18.86|    22.725|      72|  19.9995|    47|        47|   94|2011|    1|  1|  13|\n",
      "|     1|  false|  false|      2|18.86|    22.725|      72|  19.0012|    35|        71|  106|2011|    1|  1|  14|\n",
      "|     1|  false|  false|      2|18.04|     21.97|      77|  19.9995|    40|        70|  110|2011|    1|  1|  15|\n",
      "|     1|  false|  false|      2|17.22|     21.21|      82|  19.9995|    41|        52|   93|2011|    1|  1|  16|\n",
      "|     1|  false|  false|      2|18.04|     21.97|      82|  19.0012|    15|        52|   67|2011|    1|  1|  17|\n",
      "|     1|  false|  false|      3|17.22|     21.21|      88|  16.9979|     9|        26|   35|2011|    1|  1|  18|\n",
      "|     1|  false|  false|      3|17.22|     21.21|      88|  16.9979|     6|        31|   37|2011|    1|  1|  19|\n",
      "+------+-------+-------+-------+-----+----------+--------+---------+------+----------+-----+----+-----+---+----+\n",
      "only showing top 20 rows\n",
      "\n"
     ]
    }
   ],
   "source": [
    "df.show()"
   ]
  },
  {
   "cell_type": "code",
   "execution_count": 16,
   "id": "4fd49c7d",
   "metadata": {},
   "outputs": [
    {
     "name": "stdout",
     "output_type": "stream",
     "text": [
      "+------+-------+-------+-------+-----+----------+--------+---------+------+----------+-----+----+-----+---+----+\n",
      "|season|holiday|workday|weather| temp|feels_temp|humidity|windspeed|casual|registered|count|Year|Month|Day|Hour|\n",
      "+------+-------+-------+-------+-----+----------+--------+---------+------+----------+-----+----+-----+---+----+\n",
      "|     1|  false|  false|      1| 9.84|    14.395|      81|      0.0|     3|        13|   16|2011|    1|  1|   0|\n",
      "|     1|  false|  false|      1| 9.02|    13.635|      80|      0.0|     8|        32|   40|2011|    1|  1|   1|\n",
      "|     1|  false|  false|      1| 9.02|    13.635|      80|      0.0|     5|        27|   32|2011|    1|  1|   2|\n",
      "|     1|  false|  false|      1| 9.84|    14.395|      75|      0.0|     3|        10|   13|2011|    1|  1|   3|\n",
      "|     1|  false|  false|      1| 9.84|    14.395|      75|      0.0|     0|         1|    1|2011|    1|  1|   4|\n",
      "|     1|  false|  false|      2| 9.84|     12.88|      75|   6.0032|     0|         1|    1|2011|    1|  1|   5|\n",
      "|     1|  false|  false|      1| 9.02|    13.635|      80|      0.0|     2|         0|    2|2011|    1|  1|   6|\n",
      "|     1|  false|  false|      1|  8.2|     12.88|      86|      0.0|     1|         2|    3|2011|    1|  1|   7|\n",
      "|     1|  false|  false|      1| 9.84|    14.395|      75|      0.0|     1|         7|    8|2011|    1|  1|   8|\n",
      "|     1|  false|  false|      1|13.12|    17.425|      76|      0.0|     8|         6|   14|2011|    1|  1|   9|\n",
      "|     1|  false|  false|      1|15.58|    19.695|      76|  16.9979|    12|        24|   36|2011|    1|  1|  10|\n",
      "|     1|  false|  false|      1|14.76|    16.665|      81|  19.0012|    26|        30|   56|2011|    1|  1|  11|\n",
      "|     1|  false|  false|      1|17.22|     21.21|      77|  19.0012|    29|        55|   84|2011|    1|  1|  12|\n",
      "|     1|  false|  false|      2|18.86|    22.725|      72|  19.9995|    47|        47|   94|2011|    1|  1|  13|\n",
      "|     1|  false|  false|      2|18.86|    22.725|      72|  19.0012|    35|        71|  106|2011|    1|  1|  14|\n",
      "|     1|  false|  false|      2|18.04|     21.97|      77|  19.9995|    40|        70|  110|2011|    1|  1|  15|\n",
      "|     1|  false|  false|      2|17.22|     21.21|      82|  19.9995|    41|        52|   93|2011|    1|  1|  16|\n",
      "|     1|  false|  false|      2|18.04|     21.97|      82|  19.0012|    15|        52|   67|2011|    1|  1|  17|\n",
      "|     1|  false|  false|      3|17.22|     21.21|      88|  16.9979|     9|        26|   35|2011|    1|  1|  18|\n",
      "|     1|  false|  false|      3|17.22|     21.21|      88|  16.9979|     6|        31|   37|2011|    1|  1|  19|\n",
      "+------+-------+-------+-------+-----+----------+--------+---------+------+----------+-----+----+-----+---+----+\n",
      "only showing top 20 rows\n",
      "\n",
      "+------+-------+-------+--------+-----+----------+--------+---------+------+----------+-----+----+-----+---+----+\n",
      "|season|holiday|workday| weather| temp|feels_temp|humidity|windspeed|casual|registered|count|Year|Month|Day|Hour|\n",
      "+------+-------+-------+--------+-----+----------+--------+---------+------+----------+-----+----+-----+---+----+\n",
      "|Spring|  false|  false|   Sunny| 9.84|    14.395|      81|      0.0|     3|        13|   16|2011|    1|  1|   0|\n",
      "|Spring|  false|  false|   Sunny| 9.02|    13.635|      80|      0.0|     8|        32|   40|2011|    1|  1|   1|\n",
      "|Spring|  false|  false|   Sunny| 9.02|    13.635|      80|      0.0|     5|        27|   32|2011|    1|  1|   2|\n",
      "|Spring|  false|  false|   Sunny| 9.84|    14.395|      75|      0.0|     3|        10|   13|2011|    1|  1|   3|\n",
      "|Spring|  false|  false|   Sunny| 9.84|    14.395|      75|      0.0|     0|         1|    1|2011|    1|  1|   4|\n",
      "|Spring|  false|  false|  Cloudy| 9.84|     12.88|      75|   6.0032|     0|         1|    1|2011|    1|  1|   5|\n",
      "|Spring|  false|  false|   Sunny| 9.02|    13.635|      80|      0.0|     2|         0|    2|2011|    1|  1|   6|\n",
      "|Spring|  false|  false|   Sunny|  8.2|     12.88|      86|      0.0|     1|         2|    3|2011|    1|  1|   7|\n",
      "|Spring|  false|  false|   Sunny| 9.84|    14.395|      75|      0.0|     1|         7|    8|2011|    1|  1|   8|\n",
      "|Spring|  false|  false|   Sunny|13.12|    17.425|      76|      0.0|     8|         6|   14|2011|    1|  1|   9|\n",
      "|Spring|  false|  false|   Sunny|15.58|    19.695|      76|  16.9979|    12|        24|   36|2011|    1|  1|  10|\n",
      "|Spring|  false|  false|   Sunny|14.76|    16.665|      81|  19.0012|    26|        30|   56|2011|    1|  1|  11|\n",
      "|Spring|  false|  false|   Sunny|17.22|     21.21|      77|  19.0012|    29|        55|   84|2011|    1|  1|  12|\n",
      "|Spring|  false|  false|  Cloudy|18.86|    22.725|      72|  19.9995|    47|        47|   94|2011|    1|  1|  13|\n",
      "|Spring|  false|  false|  Cloudy|18.86|    22.725|      72|  19.0012|    35|        71|  106|2011|    1|  1|  14|\n",
      "|Spring|  false|  false|  Cloudy|18.04|     21.97|      77|  19.9995|    40|        70|  110|2011|    1|  1|  15|\n",
      "|Spring|  false|  false|  Cloudy|17.22|     21.21|      82|  19.9995|    41|        52|   93|2011|    1|  1|  16|\n",
      "|Spring|  false|  false|  Cloudy|18.04|     21.97|      82|  19.0012|    15|        52|   67|2011|    1|  1|  17|\n",
      "|Spring|  false|  false|Lite R/S|17.22|     21.21|      88|  16.9979|     9|        26|   35|2011|    1|  1|  18|\n",
      "|Spring|  false|  false|Lite R/S|17.22|     21.21|      88|  16.9979|     6|        31|   37|2011|    1|  1|  19|\n",
      "+------+-------+-------+--------+-----+----------+--------+---------+------+----------+-----+----+-----+---+----+\n",
      "only showing top 20 rows\n",
      "\n"
     ]
    }
   ],
   "source": [
    "# Reformat Season and Weather Variables \n",
    "from pyspark.sql.functions import when\n",
    "\n",
    "df_reformated = df.select(\"*\") \n",
    "\n",
    "df_reformated = df_reformated.withColumn(\"season\",\n",
    "                   when(df_reformated[\"season\"] == \"1\", \"Spring\")\n",
    "                   .when(df_reformated[\"season\"] == \"2\", \"Summer\")\n",
    "                   .when(df_reformated[\"season\"] == \"3\", \"Autumn\")\n",
    "                   .when(df_reformated[\"season\"] == \"4\", \"Winter\")\n",
    "                   .otherwise(df_reformated[\"season\"]))\n",
    "\n",
    "df_reformated = df_reformated.withColumn(\"weather\",\n",
    "                   when(df_reformated[\"weather\"] == \"1\", \"Sunny\")\n",
    "                   .when(df_reformated[\"weather\"] == \"2\", \"Cloudy\")\n",
    "                   .when(df_reformated[\"weather\"] == \"3\", \"Lite R/S\")\n",
    "                   .when(df_reformated[\"weather\"] == \"4\", \"Severe Con\")\n",
    "                   .otherwise(df_reformated[\"weather\"]))\n",
    "\n",
    "df.show()\n",
    "df_reformated.show()\n"
   ]
  },
  {
   "cell_type": "code",
   "execution_count": 17,
   "id": "af55fc29",
   "metadata": {},
   "outputs": [
    {
     "name": "stdout",
     "output_type": "stream",
     "text": [
      "+-------+------------------+\n",
      "|summary|            season|\n",
      "+-------+------------------+\n",
      "|  count|             10886|\n",
      "|   mean|2.5066139996325556|\n",
      "| stddev|1.1161743093443237|\n",
      "|    min|                 1|\n",
      "|    25%|                 2|\n",
      "|    50%|                 3|\n",
      "|    75%|                 4|\n",
      "|    max|                 4|\n",
      "+-------+------------------+\n",
      "\n",
      "+-------+------------------+------------------+------------------+------------------+------------------+\n",
      "|summary|           weather|              temp|        feels_temp|          humidity|         windspeed|\n",
      "+-------+------------------+------------------+------------------+------------------+------------------+\n",
      "|  count|             10886|             10886|             10886|             10886|             10886|\n",
      "|   mean| 1.418427337865148|20.230859755084463|23.655083944697644| 61.88645967297446|12.799395461085087|\n",
      "| stddev|0.6338385858190968| 7.791589801596519| 8.474600557366823|19.245033277394704|  8.16453733646764|\n",
      "|    min|                 1|              0.82|              0.76|                 0|               0.0|\n",
      "|    25%|                 1|             13.94|            16.665|                47|            7.0015|\n",
      "|    50%|                 1|              20.5|             24.24|                62|            12.998|\n",
      "|    75%|                 2|             26.24|             31.06|                77|           16.9979|\n",
      "|    max|                 4|              41.0|            45.455|               100|           56.9969|\n",
      "+-------+------------------+------------------+------------------+------------------+------------------+\n",
      "\n",
      "+-------+-----------------+------------------+------------------+\n",
      "|summary|           casual|        registered|             count|\n",
      "+-------+-----------------+------------------+------------------+\n",
      "|  count|            10886|             10886|             10886|\n",
      "|   mean|36.02195480433584| 155.5521771082124|191.57413191254824|\n",
      "| stddev|49.96047657264955|151.03903308192452|181.14445383028493|\n",
      "|    min|                0|                 0|                 1|\n",
      "|    25%|                4|                36|                42|\n",
      "|    50%|               17|               118|               145|\n",
      "|    75%|               49|               222|               284|\n",
      "|    max|              367|               886|               977|\n",
      "+-------+-----------------+------------------+------------------+\n",
      "\n",
      "+-------+------------------+------------------+-----------------+------------------+\n",
      "|summary|              Year|             Month|              Day|              Hour|\n",
      "+-------+------------------+------------------+-----------------+------------------+\n",
      "|  count|             10886|             10886|            10886|             10886|\n",
      "|   mean| 2011.501929083226| 6.521495498805805|9.992559250413375|11.541613081021495|\n",
      "| stddev|0.5000192453127775|3.4443734957806744| 5.47660827094255| 6.915837969197682|\n",
      "|    min|              2011|                 1|                1|                 0|\n",
      "|    25%|              2011|                 4|                5|                 6|\n",
      "|    50%|              2012|                 7|               10|                12|\n",
      "|    75%|              2012|                10|               15|                18|\n",
      "|    max|              2012|                12|               19|                23|\n",
      "+-------+------------------+------------------+-----------------+------------------+\n",
      "\n"
     ]
    }
   ],
   "source": [
    "df.select(\"season\", \"holiday\", 'workday').summary().show()\n",
    "df.select('weather',\"temp\", \"feels_temp\", 'humidity', 'windspeed').summary().show()\n",
    "df.select(\"casual\", \"registered\", 'count',).summary().show()\n",
    "df.select(\"Year\", \"Month\", 'Day','Hour').summary().show()"
   ]
  },
  {
   "cell_type": "code",
   "execution_count": 18,
   "id": "dd2a1f77",
   "metadata": {},
   "outputs": [],
   "source": [
    "#Data Preparation\n",
    "\n"
   ]
  },
  {
   "cell_type": "markdown",
   "id": "a885638a",
   "metadata": {},
   "source": [
    "# 04 - Data Transformation\n"
   ]
  },
  {
   "cell_type": "code",
   "execution_count": 19,
   "id": "7d36c00a",
   "metadata": {},
   "outputs": [
    {
     "name": "stdout",
     "output_type": "stream",
     "text": [
      "Correlation Matrix:\n",
      "season        0.163439\n",
      "holiday      -0.005393\n",
      "workday       0.011594\n",
      "weather      -0.128655\n",
      "temp          0.394454\n",
      "feels_temp    0.389784\n",
      "humidity     -0.317371\n",
      "windspeed     0.101369\n",
      "casual        0.690414\n",
      "registered    0.970948\n",
      "count         1.000000\n",
      "Year          0.260403\n",
      "Month         0.166862\n",
      "Day           0.019826\n",
      "Hour          0.400601\n",
      "Name: count, dtype: float64\n"
     ]
    },
    {
     "data": {
      "image/png": "[encoded data removed]",
      "text/plain": [
       "<Figure size 720x576 with 2 Axes>"
      ]
     },
     "metadata": {
      "needs_background": "light"
     },
     "output_type": "display_data"
    }
   ],
   "source": [
    "#Data Reduction\n",
    "#Convert dataframe to Pandas to view correlation matirx\n",
    "df_pd = df.toPandas()\n",
    "\n",
    "correlation_matrix = df_pd.corr()\n",
    "\n",
    "# Print correlation matrix\n",
    "print(\"Correlation Matrix:\")\n",
    "print(correlation_matrix['count'])\n",
    "\n",
    "plt.figure(figsize=(10, 8))\n",
    "sns.heatmap(correlation_matrix, annot=True, cmap='coolwarm', fmt=\".2f\")\n",
    "plt.title('Correlation Matrix Heatmap')\n",
    "plt.show()\n"
   ]
  },
  {
   "cell_type": "code",
   "execution_count": 20,
   "id": "a270f992",
   "metadata": {},
   "outputs": [
    {
     "name": "stdout",
     "output_type": "stream",
     "text": [
      "+------+-------+-------+-------+-----+----------+--------+---------+------+----------+-----+----+-----+---+----+\n",
      "|season|holiday|workday|weather| temp|feels_temp|humidity|windspeed|casual|registered|count|Year|Month|Day|Hour|\n",
      "+------+-------+-------+-------+-----+----------+--------+---------+------+----------+-----+----+-----+---+----+\n",
      "|     1|  false|  false|      1| 9.84|    14.395|      81|      0.0|     3|        13|   16|2011|    1|  1|   0|\n",
      "|     1|  false|  false|      1| 9.02|    13.635|      80|      0.0|     8|        32|   40|2011|    1|  1|   1|\n",
      "|     1|  false|  false|      1| 9.02|    13.635|      80|      0.0|     5|        27|   32|2011|    1|  1|   2|\n",
      "|     1|  false|  false|      1| 9.84|    14.395|      75|      0.0|     3|        10|   13|2011|    1|  1|   3|\n",
      "|     1|  false|  false|      1| 9.84|    14.395|      75|      0.0|     0|         1|    1|2011|    1|  1|   4|\n",
      "|     1|  false|  false|      2| 9.84|     12.88|      75|   6.0032|     0|         1|    1|2011|    1|  1|   5|\n",
      "|     1|  false|  false|      1| 9.02|    13.635|      80|      0.0|     2|         0|    2|2011|    1|  1|   6|\n",
      "|     1|  false|  false|      1|  8.2|     12.88|      86|      0.0|     1|         2|    3|2011|    1|  1|   7|\n",
      "|     1|  false|  false|      1| 9.84|    14.395|      75|      0.0|     1|         7|    8|2011|    1|  1|   8|\n",
      "|     1|  false|  false|      1|13.12|    17.425|      76|      0.0|     8|         6|   14|2011|    1|  1|   9|\n",
      "|     1|  false|  false|      1|15.58|    19.695|      76|  16.9979|    12|        24|   36|2011|    1|  1|  10|\n",
      "|     1|  false|  false|      1|14.76|    16.665|      81|  19.0012|    26|        30|   56|2011|    1|  1|  11|\n",
      "|     1|  false|  false|      1|17.22|     21.21|      77|  19.0012|    29|        55|   84|2011|    1|  1|  12|\n",
      "|     1|  false|  false|      2|18.86|    22.725|      72|  19.9995|    47|        47|   94|2011|    1|  1|  13|\n",
      "|     1|  false|  false|      2|18.86|    22.725|      72|  19.0012|    35|        71|  106|2011|    1|  1|  14|\n",
      "|     1|  false|  false|      2|18.04|     21.97|      77|  19.9995|    40|        70|  110|2011|    1|  1|  15|\n",
      "|     1|  false|  false|      2|17.22|     21.21|      82|  19.9995|    41|        52|   93|2011|    1|  1|  16|\n",
      "|     1|  false|  false|      2|18.04|     21.97|      82|  19.0012|    15|        52|   67|2011|    1|  1|  17|\n",
      "|     1|  false|  false|      3|17.22|     21.21|      88|  16.9979|     9|        26|   35|2011|    1|  1|  18|\n",
      "|     1|  false|  false|      3|17.22|     21.21|      88|  16.9979|     6|        31|   37|2011|    1|  1|  19|\n",
      "+------+-------+-------+-------+-----+----------+--------+---------+------+----------+-----+----+-----+---+----+\n",
      "only showing top 20 rows\n",
      "\n",
      "+------+-----+----------+---------+------+----------+-----+----+-----+----+\n",
      "|season| temp|feels_temp|windspeed|casual|registered|count|Year|Month|Hour|\n",
      "+------+-----+----------+---------+------+----------+-----+----+-----+----+\n",
      "|     1| 9.84|    14.395|      0.0|     3|        13|   16|2011|    1|   0|\n",
      "|     1| 9.02|    13.635|      0.0|     8|        32|   40|2011|    1|   1|\n",
      "|     1| 9.02|    13.635|      0.0|     5|        27|   32|2011|    1|   2|\n",
      "|     1| 9.84|    14.395|      0.0|     3|        10|   13|2011|    1|   3|\n",
      "|     1| 9.84|    14.395|      0.0|     0|         1|    1|2011|    1|   4|\n",
      "|     1| 9.84|     12.88|   6.0032|     0|         1|    1|2011|    1|   5|\n",
      "|     1| 9.02|    13.635|      0.0|     2|         0|    2|2011|    1|   6|\n",
      "|     1|  8.2|     12.88|      0.0|     1|         2|    3|2011|    1|   7|\n",
      "|     1| 9.84|    14.395|      0.0|     1|         7|    8|2011|    1|   8|\n",
      "|     1|13.12|    17.425|      0.0|     8|         6|   14|2011|    1|   9|\n",
      "|     1|15.58|    19.695|  16.9979|    12|        24|   36|2011|    1|  10|\n",
      "|     1|14.76|    16.665|  19.0012|    26|        30|   56|2011|    1|  11|\n",
      "|     1|17.22|     21.21|  19.0012|    29|        55|   84|2011|    1|  12|\n",
      "|     1|18.86|    22.725|  19.9995|    47|        47|   94|2011|    1|  13|\n",
      "|     1|18.86|    22.725|  19.0012|    35|        71|  106|2011|    1|  14|\n",
      "|     1|18.04|     21.97|  19.9995|    40|        70|  110|2011|    1|  15|\n",
      "|     1|17.22|     21.21|  19.9995|    41|        52|   93|2011|    1|  16|\n",
      "|     1|18.04|     21.97|  19.0012|    15|        52|   67|2011|    1|  17|\n",
      "|     1|17.22|     21.21|  16.9979|     9|        26|   35|2011|    1|  18|\n",
      "|     1|17.22|     21.21|  16.9979|     6|        31|   37|2011|    1|  19|\n",
      "+------+-----+----------+---------+------+----------+-----+----+-----+----+\n",
      "only showing top 20 rows\n",
      "\n",
      "+------+-----+----------+---------+------+----------+-----+----+-----+----+\n",
      "|season| temp|feels_temp|windspeed|casual|registered|count|Year|Month|Hour|\n",
      "+------+-----+----------+---------+------+----------+-----+----+-----+----+\n",
      "|Spring| 9.84|    14.395|      0.0|     3|        13|   16|2011|    1|   0|\n",
      "|Spring| 9.02|    13.635|      0.0|     8|        32|   40|2011|    1|   1|\n",
      "|Spring| 9.02|    13.635|      0.0|     5|        27|   32|2011|    1|   2|\n",
      "|Spring| 9.84|    14.395|      0.0|     3|        10|   13|2011|    1|   3|\n",
      "|Spring| 9.84|    14.395|      0.0|     0|         1|    1|2011|    1|   4|\n",
      "|Spring| 9.84|     12.88|   6.0032|     0|         1|    1|2011|    1|   5|\n",
      "|Spring| 9.02|    13.635|      0.0|     2|         0|    2|2011|    1|   6|\n",
      "|Spring|  8.2|     12.88|      0.0|     1|         2|    3|2011|    1|   7|\n",
      "|Spring| 9.84|    14.395|      0.0|     1|         7|    8|2011|    1|   8|\n",
      "|Spring|13.12|    17.425|      0.0|     8|         6|   14|2011|    1|   9|\n",
      "|Spring|15.58|    19.695|  16.9979|    12|        24|   36|2011|    1|  10|\n",
      "|Spring|14.76|    16.665|  19.0012|    26|        30|   56|2011|    1|  11|\n",
      "|Spring|17.22|     21.21|  19.0012|    29|        55|   84|2011|    1|  12|\n",
      "|Spring|18.86|    22.725|  19.9995|    47|        47|   94|2011|    1|  13|\n",
      "|Spring|18.86|    22.725|  19.0012|    35|        71|  106|2011|    1|  14|\n",
      "|Spring|18.04|     21.97|  19.9995|    40|        70|  110|2011|    1|  15|\n",
      "|Spring|17.22|     21.21|  19.9995|    41|        52|   93|2011|    1|  16|\n",
      "|Spring|18.04|     21.97|  19.0012|    15|        52|   67|2011|    1|  17|\n",
      "|Spring|17.22|     21.21|  16.9979|     9|        26|   35|2011|    1|  18|\n",
      "|Spring|17.22|     21.21|  16.9979|     6|        31|   37|2011|    1|  19|\n",
      "+------+-----+----------+---------+------+----------+-----+----+-----+----+\n",
      "only showing top 20 rows\n",
      "\n"
     ]
    }
   ],
   "source": [
    "#Drop Varaibles that are seen as to not have a high correlations with target variable \"count\"\n",
    "df.show()\n",
    "\n",
    "df = df.drop('holiday', 'workday', 'weather', 'humidity', 'Day')\n",
    "df_reformated = df_reformated.drop('holiday', 'workday', 'weather', 'humidity', 'Day')\n",
    "\n",
    "df.show()\n",
    "df_reformated.show()\n"
   ]
  },
  {
   "cell_type": "markdown",
   "id": "26e31475",
   "metadata": {},
   "source": [
    "# 05 - Data Mining Methods"
   ]
  },
  {
   "cell_type": "markdown",
   "id": "1b17313b",
   "metadata": {},
   "source": [
    "### Classification Methods \n",
    "- Logistic regression"
   ]
  },
  {
   "cell_type": "markdown",
   "id": "ab88783b",
   "metadata": {},
   "source": [
    "### Clustering Methods \n",
    "- K Means Clustering"
   ]
  },
  {
   "cell_type": "markdown",
   "id": "b6a4127e",
   "metadata": {},
   "source": [
    "### Regression Methods\n",
    "- Linear Regression"
   ]
  },
  {
   "cell_type": "markdown",
   "id": "6ee4b85b",
   "metadata": {},
   "source": [
    "#### Tree Methods\n",
    "- Single Decision Tree\n",
    "- Random Forest \n",
    "- Gradient Boosted ree Classifer "
   ]
  },
  {
   "cell_type": "markdown",
   "id": "23256ffc",
   "metadata": {},
   "source": [
    "# 06 - Data Mining Method Analysis\n"
   ]
  },
  {
   "cell_type": "code",
   "execution_count": 21,
   "id": "ed6d6f63",
   "metadata": {},
   "outputs": [],
   "source": [
    "# K-Means Clustering \n",
    "\n"
   ]
  },
  {
   "cell_type": "code",
   "execution_count": null,
   "id": "fde909f0",
   "metadata": {},
   "outputs": [],
   "source": []
  },
  {
   "cell_type": "markdown",
   "id": "e79a3a52",
   "metadata": {},
   "source": [
    "# 07 - Data Mining\n"
   ]
  },
  {
   "cell_type": "markdown",
   "id": "787e93d1",
   "metadata": {},
   "source": [
    "### K-MEANS CLUSTERING\n",
    "#### PySpark"
   ]
  },
  {
   "cell_type": "code",
   "execution_count": 22,
   "id": "022f2883",
   "metadata": {
    "scrolled": true
   },
   "outputs": [
    {
     "name": "stdout",
     "output_type": "stream",
     "text": [
      "root\n",
      " |-- season: integer (nullable = true)\n",
      " |-- temp: float (nullable = true)\n",
      " |-- feels_temp: float (nullable = true)\n",
      " |-- windspeed: float (nullable = true)\n",
      " |-- casual: integer (nullable = true)\n",
      " |-- registered: integer (nullable = true)\n",
      " |-- count: integer (nullable = true)\n",
      " |-- Year: integer (nullable = true)\n",
      " |-- Month: integer (nullable = true)\n",
      " |-- Hour: integer (nullable = true)\n",
      "\n"
     ]
    }
   ],
   "source": [
    "from pyspark.ml.clustering import KMeans\n",
    "df.head(1)\n",
    "\n",
    "df.printSchema()"
   ]
  },
  {
   "cell_type": "code",
   "execution_count": 23,
   "id": "81603f27",
   "metadata": {},
   "outputs": [
    {
     "name": "stdout",
     "output_type": "stream",
     "text": [
      "root\n",
      " |-- season: integer (nullable = true)\n",
      " |-- temp: float (nullable = true)\n",
      " |-- feels_temp: float (nullable = true)\n",
      " |-- windspeed: float (nullable = true)\n",
      " |-- casual: integer (nullable = true)\n",
      " |-- registered: integer (nullable = true)\n",
      " |-- count: integer (nullable = true)\n",
      " |-- Year: integer (nullable = true)\n",
      " |-- Month: integer (nullable = true)\n",
      " |-- Hour: integer (nullable = true)\n",
      "\n"
     ]
    }
   ],
   "source": [
    "from pyspark.ml.linalg import Vectors\n",
    "from pyspark.ml.feature import VectorAssembler\n",
    "from pyspark.sql.types import IntegerType\n",
    "\n",
    "df = df.withColumn(\"count\", df[\"count\"].cast(IntegerType()))\n",
    "\n",
    "df.printSchema()"
   ]
  },
  {
   "cell_type": "code",
   "execution_count": 24,
   "id": "ed967341",
   "metadata": {},
   "outputs": [
    {
     "data": {
      "text/plain": [
       "DataFrame[season: int, temp: float, feels_temp: float, windspeed: float, casual: int, registered: int, count: int, Year: int, Month: int, Hour: int, features: vector]"
      ]
     },
     "execution_count": 24,
     "metadata": {},
     "output_type": "execute_result"
    }
   ],
   "source": [
    "feat_cols = ['season', 'temp', 'feels_temp', 'windspeed', 'casual', 'registered', 'count', 'Year', 'Month', 'Hour']\n",
    "\n",
    "vec_assembler = VectorAssembler(inputCols = feat_cols, outputCol='features')\n",
    "\n",
    "final_data = vec_assembler.transform(df)\n",
    "\n",
    "from pyspark.ml.feature import StandardScaler\n",
    "scaler = StandardScaler(inputCol=\"features\", outputCol=\"scaledFeatures\", withStd=True, withMean=False)\n",
    "final_data"
   ]
  },
  {
   "cell_type": "code",
   "execution_count": 25,
   "id": "ef2b4ca0",
   "metadata": {},
   "outputs": [],
   "source": [
    "scalerModel = scaler.fit(final_data)\n",
    "cluster_final_data = scalerModel.transform(final_data)"
   ]
  },
  {
   "cell_type": "markdown",
   "id": "84d68cca",
   "metadata": {},
   "source": [
    "### Train and Evaluate Model"
   ]
  },
  {
   "cell_type": "code",
   "execution_count": 26,
   "id": "e216300f",
   "metadata": {},
   "outputs": [],
   "source": [
    "kmeans3 = KMeans(featuresCol='scaledFeatures',k=3)\n",
    "kmeans2 = KMeans(featuresCol='scaledFeatures',k=2)"
   ]
  },
  {
   "cell_type": "code",
   "execution_count": 27,
   "id": "1586275f",
   "metadata": {},
   "outputs": [
    {
     "name": "stderr",
     "output_type": "stream",
     "text": [
      "                                                                                \r"
     ]
    }
   ],
   "source": [
    "model3 = kmeans3.fit(cluster_final_data)\n",
    "model2 = kmeans2.fit(cluster_final_data)"
   ]
  },
  {
   "cell_type": "code",
   "execution_count": 28,
   "id": "060b55c8",
   "metadata": {},
   "outputs": [
    {
     "name": "stdout",
     "output_type": "stream",
     "text": [
      "With k=3 Silhouette with squared euclidean distance = 0.03918889044476104\n",
      "With k=2 Silhouette with squared euclidean distance = 0.5270431716702495\n"
     ]
    }
   ],
   "source": [
    "from pyspark.ml.clustering import KMeans\n",
    "from pyspark.ml.evaluation import ClusteringEvaluator\n",
    "\n",
    "# Make predictions\n",
    "predictions3 = model3.transform(cluster_final_data)\n",
    "predictions2 = model2.transform(cluster_final_data)\n",
    "\n",
    "# Evaluate clustering by computing Silhouette score\n",
    "evaluator = ClusteringEvaluator()\n",
    "silhouette = evaluator.evaluate(predictions3)\n",
    "print(\"With k=3 Silhouette with squared euclidean distance = \" + str(silhouette))\n",
    "silhouette = evaluator.evaluate(predictions2)\n",
    "print(\"With k=2 Silhouette with squared euclidean distance = \" + str(silhouette))"
   ]
  },
  {
   "cell_type": "code",
   "execution_count": 29,
   "id": "edeadbe5",
   "metadata": {},
   "outputs": [
    {
     "name": "stdout",
     "output_type": "stream",
     "text": [
      "Cluster Centers:\n",
      "[3.02198500e+00 2.59336098e+00 2.79536010e+00 1.27176452e+00\n",
      " 2.90447613e-01 6.02685729e-01 5.82628773e-01 4.02271726e+03\n",
      " 2.69383831e+00 1.26860955e+00]\n",
      "[2.40462682e+00 3.46920920e+00 3.65587623e+00 1.71143149e+00\n",
      " 1.69426856e+00 1.99453234e+00 2.13033683e+00 4.02311153e+03\n",
      " 2.05081727e+00 2.19806234e+00]\n",
      "[1.10540919e+00 1.68214108e+00 1.87644885e+00 1.78737581e+00\n",
      " 2.36652295e-01 5.50361209e-01 5.24163364e-01 4.02273797e+03\n",
      " 7.24278508e-01 1.61378040e+00]\n",
      "Cluster Centers:\n",
      "[2.01389983e+00 2.08782635e+00 2.28552850e+00 1.50790693e+00\n",
      " 2.01707402e-01 4.59990861e-01 4.39174212e-01 4.02271886e+03\n",
      " 1.66389789e+00 1.29639441e+00]\n",
      "[2.56634837e+00 3.30004547e+00 3.49081319e+00 1.65035608e+00\n",
      " 1.43925502e+00 1.81809511e+00 1.91288879e+00 4.02302904e+03\n",
      " 2.21076810e+00 2.18403354e+00]\n"
     ]
    }
   ],
   "source": [
    "#RESULTS \n",
    "centers=model3.clusterCenters()\n",
    "print(\"Cluster Centers:\")\n",
    "for center in centers:\n",
    "    print(center)\n",
    "    \n",
    "    \n",
    "centers=model2.clusterCenters()\n",
    "print(\"Cluster Centers:\")\n",
    "for center in centers:\n",
    "    print(center)"
   ]
  },
  {
   "cell_type": "code",
   "execution_count": 30,
   "id": "9f9b2062",
   "metadata": {},
   "outputs": [
    {
     "name": "stdout",
     "output_type": "stream",
     "text": [
      "With K=2\n",
      "Silhouette with squared euclidean distance = 0.5270431716702495\n",
      "------------------------------------------------------------\n",
      "With K=3\n",
      "Silhouette with squared euclidean distance = 0.03918889044476104\n",
      "------------------------------------------------------------\n",
      "With K=4\n",
      "Silhouette with squared euclidean distance = 0.004179744463044898\n",
      "------------------------------------------------------------\n",
      "With K=5\n",
      "Silhouette with squared euclidean distance = -0.04725046510086506\n",
      "------------------------------------------------------------\n",
      "With K=6\n",
      "Silhouette with squared euclidean distance = -0.10506329913318052\n",
      "------------------------------------------------------------\n",
      "With K=7\n",
      "Silhouette with squared euclidean distance = -0.1649531373862191\n",
      "------------------------------------------------------------\n",
      "With K=8\n",
      "Silhouette with squared euclidean distance = -0.13678697614622537\n",
      "------------------------------------------------------------\n"
     ]
    }
   ],
   "source": [
    "# Evaluate clustering by computing Within Set Sum of Squared Errors.\n",
    "for k in range(2,9):\n",
    "    kmeans = KMeans(featuresCol='scaledFeatures',k=k)\n",
    "    model = kmeans.fit(cluster_final_data)\n",
    "    predictions = model.transform(cluster_final_data)\n",
    "    evaluator = ClusteringEvaluator()\n",
    "    silhouette = evaluator.evaluate(predictions)\n",
    "    print(\"With K={}\".format(k))\n",
    "    print(\"Silhouette with squared euclidean distance = \" + str(silhouette))\n",
    "    print('--'*30)"
   ]
  },
  {
   "cell_type": "code",
   "execution_count": 31,
   "id": "1b424574",
   "metadata": {},
   "outputs": [
    {
     "name": "stdout",
     "output_type": "stream",
     "text": [
      "+----------+-----+\n",
      "|prediction|count|\n",
      "+----------+-----+\n",
      "|         1| 3465|\n",
      "|         2| 3293|\n",
      "|         0| 4128|\n",
      "+----------+-----+\n",
      "\n"
     ]
    }
   ],
   "source": [
    "model3.transform(cluster_final_data).groupBy('prediction').count().show()"
   ]
  },
  {
   "cell_type": "code",
   "execution_count": 32,
   "id": "09c404ec",
   "metadata": {},
   "outputs": [
    {
     "name": "stdout",
     "output_type": "stream",
     "text": [
      "+----------+-----+\n",
      "|prediction|count|\n",
      "+----------+-----+\n",
      "|         1| 4573|\n",
      "|         0| 6313|\n",
      "+----------+-----+\n",
      "\n"
     ]
    }
   ],
   "source": [
    "model2.transform(cluster_final_data).groupBy('prediction').count().show()"
   ]
  },
  {
   "cell_type": "code",
   "execution_count": null,
   "id": "3cf82c01",
   "metadata": {},
   "outputs": [],
   "source": []
  },
  {
   "cell_type": "markdown",
   "id": "9eaf793e",
   "metadata": {},
   "source": [
    "#### Python"
   ]
  },
  {
   "cell_type": "code",
   "execution_count": 33,
   "id": "b1a366b4",
   "metadata": {},
   "outputs": [],
   "source": [
    "import random \n",
    "import numpy as np \n",
    "import matplotlib.pyplot as plt \n",
    "import sklearn\n",
    "from sklearn.cluster import KMeans \n",
    "%matplotlib inline"
   ]
  },
  {
   "cell_type": "code",
   "execution_count": 34,
   "id": "508ae7b7",
   "metadata": {},
   "outputs": [
    {
     "name": "stdout",
     "output_type": "stream",
     "text": [
      "<class 'pandas.core.frame.DataFrame'>\n",
      "RangeIndex: 10886 entries, 0 to 10885\n",
      "Data columns (total 10 columns):\n",
      " #   Column      Non-Null Count  Dtype  \n",
      "---  ------      --------------  -----  \n",
      " 0   season      10886 non-null  int32  \n",
      " 1   temp        10886 non-null  float32\n",
      " 2   feels_temp  10886 non-null  float32\n",
      " 3   windspeed   10886 non-null  float32\n",
      " 4   casual      10886 non-null  int32  \n",
      " 5   registered  10886 non-null  int32  \n",
      " 6   count       10886 non-null  int32  \n",
      " 7   Year        10886 non-null  int32  \n",
      " 8   Month       10886 non-null  int32  \n",
      " 9   Hour        10886 non-null  int32  \n",
      "dtypes: float32(3), int32(7)\n",
      "memory usage: 425.4 KB\n"
     ]
    },
    {
     "data": {
      "text/html": [
       "<div>\n",
       "<style scoped>\n",
       "    .dataframe tbody tr th:only-of-type {\n",
       "        vertical-align: middle;\n",
       "    }\n",
       "\n",
       "    .dataframe tbody tr th {\n",
       "        vertical-align: top;\n",
       "    }\n",
       "\n",
       "    .dataframe thead th {\n",
       "        text-align: right;\n",
       "    }\n",
       "</style>\n",
       "<table border=\"1\" class=\"dataframe\">\n",
       "  <thead>\n",
       "    <tr style=\"text-align: right;\">\n",
       "      <th></th>\n",
       "      <th>season</th>\n",
       "      <th>temp</th>\n",
       "      <th>feels_temp</th>\n",
       "      <th>windspeed</th>\n",
       "      <th>casual</th>\n",
       "      <th>registered</th>\n",
       "      <th>count</th>\n",
       "      <th>Year</th>\n",
       "      <th>Month</th>\n",
       "      <th>Hour</th>\n",
       "    </tr>\n",
       "  </thead>\n",
       "  <tbody>\n",
       "    <tr>\n",
       "      <th>0</th>\n",
       "      <td>1</td>\n",
       "      <td>9.84</td>\n",
       "      <td>14.395</td>\n",
       "      <td>0.0</td>\n",
       "      <td>3</td>\n",
       "      <td>13</td>\n",
       "      <td>16</td>\n",
       "      <td>2011</td>\n",
       "      <td>1</td>\n",
       "      <td>0</td>\n",
       "    </tr>\n",
       "    <tr>\n",
       "      <th>1</th>\n",
       "      <td>1</td>\n",
       "      <td>9.02</td>\n",
       "      <td>13.635</td>\n",
       "      <td>0.0</td>\n",
       "      <td>8</td>\n",
       "      <td>32</td>\n",
       "      <td>40</td>\n",
       "      <td>2011</td>\n",
       "      <td>1</td>\n",
       "      <td>1</td>\n",
       "    </tr>\n",
       "    <tr>\n",
       "      <th>2</th>\n",
       "      <td>1</td>\n",
       "      <td>9.02</td>\n",
       "      <td>13.635</td>\n",
       "      <td>0.0</td>\n",
       "      <td>5</td>\n",
       "      <td>27</td>\n",
       "      <td>32</td>\n",
       "      <td>2011</td>\n",
       "      <td>1</td>\n",
       "      <td>2</td>\n",
       "    </tr>\n",
       "    <tr>\n",
       "      <th>3</th>\n",
       "      <td>1</td>\n",
       "      <td>9.84</td>\n",
       "      <td>14.395</td>\n",
       "      <td>0.0</td>\n",
       "      <td>3</td>\n",
       "      <td>10</td>\n",
       "      <td>13</td>\n",
       "      <td>2011</td>\n",
       "      <td>1</td>\n",
       "      <td>3</td>\n",
       "    </tr>\n",
       "    <tr>\n",
       "      <th>4</th>\n",
       "      <td>1</td>\n",
       "      <td>9.84</td>\n",
       "      <td>14.395</td>\n",
       "      <td>0.0</td>\n",
       "      <td>0</td>\n",
       "      <td>1</td>\n",
       "      <td>1</td>\n",
       "      <td>2011</td>\n",
       "      <td>1</td>\n",
       "      <td>4</td>\n",
       "    </tr>\n",
       "  </tbody>\n",
       "</table>\n",
       "</div>"
      ],
      "text/plain": [
       "   season  temp  feels_temp  windspeed  casual  registered  count  Year  \\\n",
       "0       1  9.84      14.395        0.0       3          13     16  2011   \n",
       "1       1  9.02      13.635        0.0       8          32     40  2011   \n",
       "2       1  9.02      13.635        0.0       5          27     32  2011   \n",
       "3       1  9.84      14.395        0.0       3          10     13  2011   \n",
       "4       1  9.84      14.395        0.0       0           1      1  2011   \n",
       "\n",
       "   Month  Hour  \n",
       "0      1     0  \n",
       "1      1     1  \n",
       "2      1     2  \n",
       "3      1     3  \n",
       "4      1     4  "
      ]
     },
     "execution_count": 34,
     "metadata": {},
     "output_type": "execute_result"
    }
   ],
   "source": [
    "df_cl = df.toPandas()\n",
    "\n",
    "df_cl.info()\n",
    "df_cl.head()"
   ]
  },
  {
   "cell_type": "code",
   "execution_count": 35,
   "id": "8f8e0bbf",
   "metadata": {},
   "outputs": [],
   "source": [
    "#Normalizing over the standard deviation\n",
    "from sklearn.preprocessing import StandardScaler\n",
    "X = df_cl.values[:, 1:]\n",
    "\n",
    "X = np.nan_to_num(X)\n",
    "\n",
    "scaler = StandardScaler()\n",
    "X_normalized = scaler.fit_transform(X)\n"
   ]
  },
  {
   "cell_type": "code",
   "execution_count": 36,
   "id": "b064ffb6",
   "metadata": {},
   "outputs": [
    {
     "name": "stdout",
     "output_type": "stream",
     "text": [
      "[0 0 0 ... 2 2 2]\n"
     ]
    }
   ],
   "source": [
    "clusterNum = 3\n",
    "k_means = KMeans(init=\"k-means++\", n_clusters=clusterNum, n_init=12)\n",
    "k_means.fit(X_normalized)\n",
    "labels = k_means.labels_\n",
    "print(labels)"
   ]
  },
  {
   "cell_type": "code",
   "execution_count": 37,
   "id": "78929a34",
   "metadata": {},
   "outputs": [
    {
     "data": {
      "text/html": [
       "<div>\n",
       "<style scoped>\n",
       "    .dataframe tbody tr th:only-of-type {\n",
       "        vertical-align: middle;\n",
       "    }\n",
       "\n",
       "    .dataframe tbody tr th {\n",
       "        vertical-align: top;\n",
       "    }\n",
       "\n",
       "    .dataframe thead th {\n",
       "        text-align: right;\n",
       "    }\n",
       "</style>\n",
       "<table border=\"1\" class=\"dataframe\">\n",
       "  <thead>\n",
       "    <tr style=\"text-align: right;\">\n",
       "      <th></th>\n",
       "      <th>season</th>\n",
       "      <th>temp</th>\n",
       "      <th>feels_temp</th>\n",
       "      <th>windspeed</th>\n",
       "      <th>casual</th>\n",
       "      <th>registered</th>\n",
       "      <th>count</th>\n",
       "      <th>Year</th>\n",
       "      <th>Month</th>\n",
       "      <th>Hour</th>\n",
       "      <th>Cluster</th>\n",
       "    </tr>\n",
       "  </thead>\n",
       "  <tbody>\n",
       "    <tr>\n",
       "      <th>0</th>\n",
       "      <td>1</td>\n",
       "      <td>9.84</td>\n",
       "      <td>14.395</td>\n",
       "      <td>0.0</td>\n",
       "      <td>3</td>\n",
       "      <td>13</td>\n",
       "      <td>16</td>\n",
       "      <td>2011</td>\n",
       "      <td>1</td>\n",
       "      <td>0</td>\n",
       "      <td>0</td>\n",
       "    </tr>\n",
       "    <tr>\n",
       "      <th>1</th>\n",
       "      <td>1</td>\n",
       "      <td>9.02</td>\n",
       "      <td>13.635</td>\n",
       "      <td>0.0</td>\n",
       "      <td>8</td>\n",
       "      <td>32</td>\n",
       "      <td>40</td>\n",
       "      <td>2011</td>\n",
       "      <td>1</td>\n",
       "      <td>1</td>\n",
       "      <td>0</td>\n",
       "    </tr>\n",
       "    <tr>\n",
       "      <th>2</th>\n",
       "      <td>1</td>\n",
       "      <td>9.02</td>\n",
       "      <td>13.635</td>\n",
       "      <td>0.0</td>\n",
       "      <td>5</td>\n",
       "      <td>27</td>\n",
       "      <td>32</td>\n",
       "      <td>2011</td>\n",
       "      <td>1</td>\n",
       "      <td>2</td>\n",
       "      <td>0</td>\n",
       "    </tr>\n",
       "    <tr>\n",
       "      <th>3</th>\n",
       "      <td>1</td>\n",
       "      <td>9.84</td>\n",
       "      <td>14.395</td>\n",
       "      <td>0.0</td>\n",
       "      <td>3</td>\n",
       "      <td>10</td>\n",
       "      <td>13</td>\n",
       "      <td>2011</td>\n",
       "      <td>1</td>\n",
       "      <td>3</td>\n",
       "      <td>0</td>\n",
       "    </tr>\n",
       "    <tr>\n",
       "      <th>4</th>\n",
       "      <td>1</td>\n",
       "      <td>9.84</td>\n",
       "      <td>14.395</td>\n",
       "      <td>0.0</td>\n",
       "      <td>0</td>\n",
       "      <td>1</td>\n",
       "      <td>1</td>\n",
       "      <td>2011</td>\n",
       "      <td>1</td>\n",
       "      <td>4</td>\n",
       "      <td>0</td>\n",
       "    </tr>\n",
       "  </tbody>\n",
       "</table>\n",
       "</div>"
      ],
      "text/plain": [
       "   season  temp  feels_temp  windspeed  casual  registered  count  Year  \\\n",
       "0       1  9.84      14.395        0.0       3          13     16  2011   \n",
       "1       1  9.02      13.635        0.0       8          32     40  2011   \n",
       "2       1  9.02      13.635        0.0       5          27     32  2011   \n",
       "3       1  9.84      14.395        0.0       3          10     13  2011   \n",
       "4       1  9.84      14.395        0.0       0           1      1  2011   \n",
       "\n",
       "   Month  Hour  Cluster  \n",
       "0      1     0        0  \n",
       "1      1     1        0  \n",
       "2      1     2        0  \n",
       "3      1     3        0  \n",
       "4      1     4        0  "
      ]
     },
     "execution_count": 37,
     "metadata": {},
     "output_type": "execute_result"
    }
   ],
   "source": [
    "df_cl[\"Cluster\"] = labels\n",
    "\n",
    "df_cl.head()"
   ]
  },
  {
   "cell_type": "code",
   "execution_count": 38,
   "id": "9b558aa0",
   "metadata": {},
   "outputs": [
    {
     "data": {
      "text/html": [
       "<div>\n",
       "<style scoped>\n",
       "    .dataframe tbody tr th:only-of-type {\n",
       "        vertical-align: middle;\n",
       "    }\n",
       "\n",
       "    .dataframe tbody tr th {\n",
       "        vertical-align: top;\n",
       "    }\n",
       "\n",
       "    .dataframe thead th {\n",
       "        text-align: right;\n",
       "    }\n",
       "</style>\n",
       "<table border=\"1\" class=\"dataframe\">\n",
       "  <thead>\n",
       "    <tr style=\"text-align: right;\">\n",
       "      <th></th>\n",
       "      <th>season</th>\n",
       "      <th>temp</th>\n",
       "      <th>feels_temp</th>\n",
       "      <th>windspeed</th>\n",
       "      <th>casual</th>\n",
       "      <th>registered</th>\n",
       "      <th>count</th>\n",
       "      <th>Year</th>\n",
       "      <th>Month</th>\n",
       "      <th>Hour</th>\n",
       "    </tr>\n",
       "    <tr>\n",
       "      <th>Cluster</th>\n",
       "      <th></th>\n",
       "      <th></th>\n",
       "      <th></th>\n",
       "      <th></th>\n",
       "      <th></th>\n",
       "      <th></th>\n",
       "      <th></th>\n",
       "      <th></th>\n",
       "      <th></th>\n",
       "      <th></th>\n",
       "    </tr>\n",
       "  </thead>\n",
       "  <tbody>\n",
       "    <tr>\n",
       "      <th>0</th>\n",
       "      <td>1.176672</td>\n",
       "      <td>12.211108</td>\n",
       "      <td>14.868266</td>\n",
       "      <td>14.903584</td>\n",
       "      <td>10.355060</td>\n",
       "      <td>79.293997</td>\n",
       "      <td>89.649057</td>\n",
       "      <td>2011.443911</td>\n",
       "      <td>2.312864</td>\n",
       "      <td>11.136192</td>\n",
       "    </tr>\n",
       "    <tr>\n",
       "      <th>1</th>\n",
       "      <td>2.703478</td>\n",
       "      <td>26.405352</td>\n",
       "      <td>30.309175</td>\n",
       "      <td>14.111835</td>\n",
       "      <td>87.274558</td>\n",
       "      <td>317.788286</td>\n",
       "      <td>405.062843</td>\n",
       "      <td>2011.689750</td>\n",
       "      <td>7.117145</td>\n",
       "      <td>15.148871</td>\n",
       "    </tr>\n",
       "    <tr>\n",
       "      <th>2</th>\n",
       "      <td>3.195184</td>\n",
       "      <td>20.899429</td>\n",
       "      <td>24.465113</td>\n",
       "      <td>10.575683</td>\n",
       "      <td>16.165353</td>\n",
       "      <td>89.599190</td>\n",
       "      <td>105.764543</td>\n",
       "      <td>2011.406776</td>\n",
       "      <td>8.719582</td>\n",
       "      <td>9.273812</td>\n",
       "    </tr>\n",
       "  </tbody>\n",
       "</table>\n",
       "</div>"
      ],
      "text/plain": [
       "           season       temp  feels_temp  windspeed     casual  registered  \\\n",
       "Cluster                                                                      \n",
       "0        1.176672  12.211108   14.868266  14.903584  10.355060   79.293997   \n",
       "1        2.703478  26.405352   30.309175  14.111835  87.274558  317.788286   \n",
       "2        3.195184  20.899429   24.465113  10.575683  16.165353   89.599190   \n",
       "\n",
       "              count         Year     Month       Hour  \n",
       "Cluster                                                \n",
       "0         89.649057  2011.443911  2.312864  11.136192  \n",
       "1        405.062843  2011.689750  7.117145  15.148871  \n",
       "2        105.764543  2011.406776  8.719582   9.273812  "
      ]
     },
     "execution_count": 38,
     "metadata": {},
     "output_type": "execute_result"
    }
   ],
   "source": [
    "df_cl.groupby('Cluster').mean()"
   ]
  },
  {
   "cell_type": "code",
   "execution_count": 39,
   "id": "1150d2f4",
   "metadata": {},
   "outputs": [
    {
     "data": {
      "text/plain": [
       "2    4693\n",
       "1    3278\n",
       "0    2915\n",
       "Name: Cluster, dtype: int64"
      ]
     },
     "execution_count": 39,
     "metadata": {},
     "output_type": "execute_result"
    }
   ],
   "source": [
    "df_cl['Cluster'].value_counts()"
   ]
  },
  {
   "cell_type": "code",
   "execution_count": 75,
   "id": "5ce835e9",
   "metadata": {
    "scrolled": false
   },
   "outputs": [
    {
     "data": {
      "text/plain": [
       "<AxesSubplot:xlabel='count', ylabel='temp'>"
      ]
     },
     "execution_count": 75,
     "metadata": {},
     "output_type": "execute_result"
    },
    {
     "data": {
      "image/png": "[encoded data removed]",
      "text/plain": [
       "<Figure size 432x288 with 1 Axes>"
      ]
     },
     "metadata": {
      "needs_background": "light"
     },
     "output_type": "display_data"
    }
   ],
   "source": [
    "#sns.pairplot(df_cl, hue='Cluster')\n",
    "\n",
    "sns.scatterplot(data=df_cl, x=\"count\", y='temp',hue=\"Cluster\")"
   ]
  },
  {
   "cell_type": "markdown",
   "id": "770e93f6",
   "metadata": {},
   "source": [
    "### Linear Regression\n",
    "#### PySpark"
   ]
  },
  {
   "cell_type": "code",
   "execution_count": 53,
   "id": "ed73835a",
   "metadata": {},
   "outputs": [
    {
     "name": "stdout",
     "output_type": "stream",
     "text": [
      "+------+-----+----------+---------+------+----------+-----+----+-----+----+\n",
      "|season| temp|feels_temp|windspeed|casual|registered|count|Year|Month|Hour|\n",
      "+------+-----+----------+---------+------+----------+-----+----+-----+----+\n",
      "|     1| 9.84|    14.395|      0.0|     3|        13|   16|2011|    1|   0|\n",
      "|     1| 9.02|    13.635|      0.0|     8|        32|   40|2011|    1|   1|\n",
      "|     1| 9.02|    13.635|      0.0|     5|        27|   32|2011|    1|   2|\n",
      "|     1| 9.84|    14.395|      0.0|     3|        10|   13|2011|    1|   3|\n",
      "|     1| 9.84|    14.395|      0.0|     0|         1|    1|2011|    1|   4|\n",
      "|     1| 9.84|     12.88|   6.0032|     0|         1|    1|2011|    1|   5|\n",
      "|     1| 9.02|    13.635|      0.0|     2|         0|    2|2011|    1|   6|\n",
      "|     1|  8.2|     12.88|      0.0|     1|         2|    3|2011|    1|   7|\n",
      "|     1| 9.84|    14.395|      0.0|     1|         7|    8|2011|    1|   8|\n",
      "|     1|13.12|    17.425|      0.0|     8|         6|   14|2011|    1|   9|\n",
      "|     1|15.58|    19.695|  16.9979|    12|        24|   36|2011|    1|  10|\n",
      "|     1|14.76|    16.665|  19.0012|    26|        30|   56|2011|    1|  11|\n",
      "|     1|17.22|     21.21|  19.0012|    29|        55|   84|2011|    1|  12|\n",
      "|     1|18.86|    22.725|  19.9995|    47|        47|   94|2011|    1|  13|\n",
      "|     1|18.86|    22.725|  19.0012|    35|        71|  106|2011|    1|  14|\n",
      "|     1|18.04|     21.97|  19.9995|    40|        70|  110|2011|    1|  15|\n",
      "|     1|17.22|     21.21|  19.9995|    41|        52|   93|2011|    1|  16|\n",
      "|     1|18.04|     21.97|  19.0012|    15|        52|   67|2011|    1|  17|\n",
      "|     1|17.22|     21.21|  16.9979|     9|        26|   35|2011|    1|  18|\n",
      "|     1|17.22|     21.21|  16.9979|     6|        31|   37|2011|    1|  19|\n",
      "+------+-----+----------+---------+------+----------+-----+----+-----+----+\n",
      "only showing top 20 rows\n",
      "\n",
      "root\n",
      " |-- season: integer (nullable = true)\n",
      " |-- temp: float (nullable = true)\n",
      " |-- feels_temp: float (nullable = true)\n",
      " |-- windspeed: float (nullable = true)\n",
      " |-- casual: integer (nullable = true)\n",
      " |-- registered: integer (nullable = true)\n",
      " |-- count: integer (nullable = true)\n",
      " |-- Year: integer (nullable = true)\n",
      " |-- Month: integer (nullable = true)\n",
      " |-- Hour: integer (nullable = true)\n",
      "\n"
     ]
    }
   ],
   "source": [
    "import findspark\n",
    "findspark.init()\n",
    "from pyspark.sql import SparkSession\n",
    "spark = SparkSession.builder.appName('lr_example').getOrCreate()\n",
    "from pyspark.ml.regression import LinearRegression\n",
    "\n",
    "# Use Spark to read in the Ecommerce Customers csv file.\n",
    "data = df\n",
    "data.show()\n",
    "\n",
    "# Print the Schema of the DataFrame\n",
    "data.printSchema()"
   ]
  },
  {
   "cell_type": "code",
   "execution_count": 54,
   "id": "aea01d80",
   "metadata": {},
   "outputs": [
    {
     "data": {
      "text/plain": [
       "['season',\n",
       " 'temp',\n",
       " 'feels_temp',\n",
       " 'windspeed',\n",
       " 'casual',\n",
       " 'registered',\n",
       " 'count',\n",
       " 'Year',\n",
       " 'Month',\n",
       " 'Hour']"
      ]
     },
     "execution_count": 54,
     "metadata": {},
     "output_type": "execute_result"
    }
   ],
   "source": [
    "from pyspark.ml.linalg import Vectors\n",
    "from pyspark.ml.feature import VectorAssembler\n",
    "\n",
    "data.columns"
   ]
  },
  {
   "cell_type": "code",
   "execution_count": 64,
   "id": "96b8e9c4",
   "metadata": {},
   "outputs": [
    {
     "name": "stdout",
     "output_type": "stream",
     "text": [
      "+--------------------+\n",
      "|            features|\n",
      "+--------------------+\n",
      "|[1.0,9.8400001525...|\n",
      "|[1.0,9.0200004577...|\n",
      "|[1.0,9.0200004577...|\n",
      "+--------------------+\n",
      "only showing top 3 rows\n",
      "\n"
     ]
    },
    {
     "data": {
      "text/plain": [
       "[Row(season=1, temp=9.84000015258789, feels_temp=14.395000457763672, windspeed=0.0, casual=3, registered=13, count=16, Year=2011, Month=1, Hour=0, features=DenseVector([1.0, 9.84, 14.395, 0.0, 3.0, 13.0, 2011.0, 1.0, 0.0]))]"
      ]
     },
     "execution_count": 64,
     "metadata": {},
     "output_type": "execute_result"
    }
   ],
   "source": [
    "assembler = VectorAssembler(\n",
    "    inputCols=[\"season\", \"temp\", \"feels_temp\",\"windspeed\", \"casual\", \"registered\",\"Year\", \"Month\", \"Hour\"],\n",
    "    outputCol=\"features\")\n",
    "\n",
    "output = assembler.transform(data)\n",
    "output.select(\"features\").show(3)\n",
    "output.head(1)"
   ]
  },
  {
   "cell_type": "code",
   "execution_count": 65,
   "id": "d5c2d743",
   "metadata": {},
   "outputs": [
    {
     "name": "stdout",
     "output_type": "stream",
     "text": [
      "root\n",
      " |-- features: vector (nullable = true)\n",
      " |-- count: integer (nullable = true)\n",
      "\n"
     ]
    }
   ],
   "source": [
    "final_data = output.select(\"features\", \"count\")\n",
    "final_data.printSchema()"
   ]
  },
  {
   "cell_type": "code",
   "execution_count": 66,
   "id": "07bec9c3",
   "metadata": {},
   "outputs": [
    {
     "name": "stdout",
     "output_type": "stream",
     "text": [
      "+--------------------+-----+\n",
      "|            features|count|\n",
      "+--------------------+-----+\n",
      "|[1.0,9.8400001525...|   16|\n",
      "|[1.0,9.0200004577...|   40|\n",
      "|[1.0,9.0200004577...|   32|\n",
      "|[1.0,9.8400001525...|   13|\n",
      "|[1.0,9.8400001525...|    1|\n",
      "|[1.0,9.8400001525...|    1|\n",
      "|[1.0,9.0200004577...|    2|\n",
      "|[1.0,8.1999998092...|    3|\n",
      "|[1.0,9.8400001525...|    8|\n",
      "|[1.0,13.119999885...|   14|\n",
      "|[1.0,15.579999923...|   36|\n",
      "|[1.0,14.760000228...|   56|\n",
      "|[1.0,17.219999313...|   84|\n",
      "|[1.0,18.860000610...|   94|\n",
      "|[1.0,18.860000610...|  106|\n",
      "|[1.0,18.040000915...|  110|\n",
      "|[1.0,17.219999313...|   93|\n",
      "|[1.0,18.040000915...|   67|\n",
      "|[1.0,17.219999313...|   35|\n",
      "|[1.0,17.219999313...|   37|\n",
      "+--------------------+-----+\n",
      "only showing top 20 rows\n",
      "\n"
     ]
    }
   ],
   "source": [
    "final_data.show()"
   ]
  },
  {
   "cell_type": "markdown",
   "id": "1cbe1e2a",
   "metadata": {},
   "source": [
    "### Train Model"
   ]
  },
  {
   "cell_type": "code",
   "execution_count": 67,
   "id": "eee88cdf",
   "metadata": {},
   "outputs": [
    {
     "name": "stdout",
     "output_type": "stream",
     "text": [
      "+-------+------------------+\n",
      "|summary|             count|\n",
      "+-------+------------------+\n",
      "|  count|              7649|\n",
      "|   mean| 193.5868741011897|\n",
      "| stddev|182.20994407249492|\n",
      "|    min|                 1|\n",
      "|    max|               970|\n",
      "+-------+------------------+\n",
      "\n",
      "+-------+------------------+\n",
      "|summary|             count|\n",
      "+-------+------------------+\n",
      "|  count|              3237|\n",
      "|   mean|186.81804139635466|\n",
      "| stddev| 178.5392224796933|\n",
      "|    min|                 1|\n",
      "|    max|               977|\n",
      "+-------+------------------+\n",
      "\n"
     ]
    }
   ],
   "source": [
    "#Split data to training and test: \n",
    "\n",
    "train, test = final_data.randomSplit([0.7,0.3])\n",
    "\n",
    "train.describe().show()\n",
    "test.describe().show()"
   ]
  },
  {
   "cell_type": "code",
   "execution_count": 70,
   "id": "6bff72c5",
   "metadata": {},
   "outputs": [
    {
     "name": "stderr",
     "output_type": "stream",
     "text": [
      "24/05/24 05:43:38 WARN Instrumentation: [95bce500] regParam is zero, which might cause numerical instability and overfitting.\n"
     ]
    }
   ],
   "source": [
    "lr = LinearRegression(labelCol='count')\n",
    "\n",
    "lrModel = lr.fit(train)"
   ]
  },
  {
   "cell_type": "code",
   "execution_count": 76,
   "id": "02c16ed4",
   "metadata": {},
   "outputs": [
    {
     "name": "stdout",
     "output_type": "stream",
     "text": [
      "Coefficients: [9.91965375695716e-12,-1.374759948069564e-12,1.688905196970202e-12,6.973305050933367e-13,0.999999999999816,0.9999999999996778,3.208475295654397e-10,-3.446800213883522e-13,3.039026864311129e-12]\n",
      "\n",
      "\n",
      "Intercept:-6.45404294513386e-07\n"
     ]
    }
   ],
   "source": [
    "# Print the coefficients and intercept for linear regression\n",
    "print(\"Coefficients: {}\".format(str(lrModel.coefficients))) # For each feature...\n",
    "print('\\n')\n",
    "print(\"Intercept:{}\".format(str(lrModel.intercept)))"
   ]
  },
  {
   "cell_type": "code",
   "execution_count": 78,
   "id": "8e516780",
   "metadata": {},
   "outputs": [
    {
     "name": "stderr",
     "output_type": "stream",
     "text": [
      "/home/ubuntu/spark-3.2.1-bin-hadoop2.7/python/pyspark/sql/context.py:125: FutureWarning: Deprecated in 3.0.0. Use SparkSession.builder.getOrCreate() instead.\n",
      "  warnings.warn(\n"
     ]
    },
    {
     "name": "stdout",
     "output_type": "stream",
     "text": [
      "+--------------------+\n",
      "|           residuals|\n",
      "+--------------------+\n",
      "|-1.69672276228993...|\n",
      "|-1.73800529523759...|\n",
      "|-1.7297097087976E-10|\n",
      "|-1.34747324409545...|\n",
      "|-8.42987901705782...|\n",
      "|-1.66832769821212...|\n",
      "|-1.30000898934667...|\n",
      "|-1.66835434356471...|\n",
      "|1.703028829069808...|\n",
      "|1.568949414831877...|\n",
      "|-1.66419766856051...|\n",
      "|1.502904467542976...|\n",
      "|1.462728826950865...|\n",
      "|-1.77866610329147...|\n",
      "|1.386295522820546...|\n",
      "|1.468638544110945...|\n",
      "|-1.79873893557669...|\n",
      "|1.635527269172598...|\n",
      "|-1.85055526458199...|\n",
      "|1.467039822955484...|\n",
      "+--------------------+\n",
      "only showing top 20 rows\n",
      "\n"
     ]
    }
   ],
   "source": [
    "# Summarize the model over the training set and print out some metrics.\n",
    "trainingSummary = lrModel.summary\n",
    "trainingSummary.residuals.show()"
   ]
  },
  {
   "cell_type": "code",
   "execution_count": 79,
   "id": "c17b9017",
   "metadata": {},
   "outputs": [
    {
     "name": "stdout",
     "output_type": "stream",
     "text": [
      "+--------------------+\n",
      "|           residuals|\n",
      "+--------------------+\n",
      "|-1.72711400736602...|\n",
      "|-1.60120805503538...|\n",
      "|1.529154580737213...|\n",
      "|1.472821864467732...|\n",
      "|-1.63559832344617...|\n",
      "|-1.79841919134560...|\n",
      "|1.432337581874776...|\n",
      "|-1.93675964155204...|\n",
      "|8.713030297258229...|\n",
      "|-1.74360081928170...|\n",
      "|-1.83290271849045...|\n",
      "|1.610231947779539...|\n",
      "|1.371359692470264...|\n",
      "|1.339586219728517...|\n",
      "|-1.73621117482980...|\n",
      "|1.561133444738516...|\n",
      "|1.537089344694209...|\n",
      "|-1.70754077544188...|\n",
      "|1.481366140865248...|\n",
      "|-1.74622982740402...|\n",
      "+--------------------+\n",
      "only showing top 20 rows\n",
      "\n",
      "RMSE: 1.533106774294561e-10\n"
     ]
    }
   ],
   "source": [
    "test_results = lrModel.evaluate(test)\n",
    "\n",
    "test_results.residuals.show()\n",
    "print(\"RMSE: {}\".format(test_results.rootMeanSquaredError))"
   ]
  },
  {
   "cell_type": "code",
   "execution_count": 80,
   "id": "5d2700fc",
   "metadata": {},
   "outputs": [
    {
     "name": "stdout",
     "output_type": "stream",
     "text": [
      "R2: 1.0\n"
     ]
    }
   ],
   "source": [
    "print(\"R2: {}\".format(test_results.r2))"
   ]
  },
  {
   "cell_type": "code",
   "execution_count": 81,
   "id": "f9027a44",
   "metadata": {},
   "outputs": [
    {
     "name": "stdout",
     "output_type": "stream",
     "text": [
      "+-------+------------------+\n",
      "|summary|             count|\n",
      "+-------+------------------+\n",
      "|  count|             10886|\n",
      "|   mean|191.57413191254824|\n",
      "| stddev|181.14445383028493|\n",
      "|    min|                 1|\n",
      "|    max|               977|\n",
      "+-------+------------------+\n",
      "\n"
     ]
    }
   ],
   "source": [
    "final_data.describe().show()"
   ]
  },
  {
   "cell_type": "code",
   "execution_count": null,
   "id": "030019ae",
   "metadata": {},
   "outputs": [],
   "source": []
  },
  {
   "cell_type": "markdown",
   "id": "5dcb00a2",
   "metadata": {},
   "source": [
    "# 08 - Interpretation\n"
   ]
  },
  {
   "cell_type": "markdown",
   "id": "ed4a3751",
   "metadata": {},
   "source": [
    "#### K-means Clustering"
   ]
  },
  {
   "cell_type": "code",
   "execution_count": null,
   "id": "49aa0770",
   "metadata": {},
   "outputs": [],
   "source": []
  },
  {
   "cell_type": "code",
   "execution_count": null,
   "id": "f5a86375",
   "metadata": {},
   "outputs": [],
   "source": []
  },
  {
   "cell_type": "markdown",
   "id": "ab1c5369",
   "metadata": {},
   "source": [
    "#### Linear Regression"
   ]
  },
  {
   "cell_type": "code",
   "execution_count": null,
   "id": "54260fd4",
   "metadata": {},
   "outputs": [],
   "source": []
  },
  {
   "cell_type": "code",
   "execution_count": null,
   "id": "638c6670",
   "metadata": {},
   "outputs": [],
   "source": []
  }
 ],
 "metadata": {
  "kernelspec": {
   "display_name": "Python 3 (ipykernel)",
   "language": "python",
   "name": "python3"
  },
  "language_info": {
   "codemirror_mode": {
    "name": "ipython",
    "version": 3
   },
   "file_extension": ".py",
   "mimetype": "text/x-python",
   "name": "python",
   "nbconvert_exporter": "python",
   "pygments_lexer": "ipython3",
   "version": "3.10.4"
  }
 },
 "nbformat": 4,
 "nbformat_minor": 5
}
