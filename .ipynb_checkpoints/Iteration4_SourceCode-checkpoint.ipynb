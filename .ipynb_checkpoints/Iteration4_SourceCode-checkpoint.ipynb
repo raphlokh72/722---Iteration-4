{
 "cells": [
  {
   "cell_type": "markdown",
   "id": "387a1285",
   "metadata": {},
   "source": [
    "# 01 - Business Understanding\n"
   ]
  },
  {
   "cell_type": "code",
   "execution_count": null,
   "id": "a0df0c6c",
   "metadata": {},
   "outputs": [],
   "source": []
  },
  {
   "cell_type": "markdown",
   "id": "f6fcd3e7",
   "metadata": {},
   "source": [
    "# 02 -Data Exploration "
   ]
  },
  {
   "cell_type": "code",
   "execution_count": 19,
   "id": "b68875c0",
   "metadata": {},
   "outputs": [],
   "source": [
    "import findspark\n",
    "findspark.init('/home/ubuntu/spark-3.2.1-bin-hadoop2.7')\n",
    "import pyspark\n",
    "from pyspark.sql import SparkSession\n",
    "spark = SparkSession.builder.appName('basics').getOrCreate()\n",
    "\n",
    "import pandas as pd\n",
    "import seaborn as sns\n",
    "import matplotlib.pyplot as plt"
   ]
  },
  {
   "cell_type": "code",
   "execution_count": 2,
   "id": "7359a604",
   "metadata": {},
   "outputs": [],
   "source": [
    "df = spark.read.csv('train.csv')\n",
    "\n",
    "df_pd = pd.read_csv('train.csv')"
   ]
  },
  {
   "cell_type": "code",
   "execution_count": 3,
   "id": "2334d9ee",
   "metadata": {},
   "outputs": [
    {
     "name": "stdout",
     "output_type": "stream",
     "text": [
      "+-------------------+------+-------+----------+-------+-----+------+--------+---------+------+----------+-----+\n",
      "|                _c0|   _c1|    _c2|       _c3|    _c4|  _c5|   _c6|     _c7|      _c8|   _c9|      _c10| _c11|\n",
      "+-------------------+------+-------+----------+-------+-----+------+--------+---------+------+----------+-----+\n",
      "|           datetime|season|holiday|workingday|weather| temp| atemp|humidity|windspeed|casual|registered|count|\n",
      "|2011-01-01 00:00:00|     1|      0|         0|      1| 9.84|14.395|      81|        0|     3|        13|   16|\n",
      "|2011-01-01 01:00:00|     1|      0|         0|      1| 9.02|13.635|      80|        0|     8|        32|   40|\n",
      "|2011-01-01 02:00:00|     1|      0|         0|      1| 9.02|13.635|      80|        0|     5|        27|   32|\n",
      "|2011-01-01 03:00:00|     1|      0|         0|      1| 9.84|14.395|      75|        0|     3|        10|   13|\n",
      "|2011-01-01 04:00:00|     1|      0|         0|      1| 9.84|14.395|      75|        0|     0|         1|    1|\n",
      "|2011-01-01 05:00:00|     1|      0|         0|      2| 9.84| 12.88|      75|   6.0032|     0|         1|    1|\n",
      "|2011-01-01 06:00:00|     1|      0|         0|      1| 9.02|13.635|      80|        0|     2|         0|    2|\n",
      "|2011-01-01 07:00:00|     1|      0|         0|      1|  8.2| 12.88|      86|        0|     1|         2|    3|\n",
      "|2011-01-01 08:00:00|     1|      0|         0|      1| 9.84|14.395|      75|        0|     1|         7|    8|\n",
      "|2011-01-01 09:00:00|     1|      0|         0|      1|13.12|17.425|      76|        0|     8|         6|   14|\n",
      "|2011-01-01 10:00:00|     1|      0|         0|      1|15.58|19.695|      76|  16.9979|    12|        24|   36|\n",
      "|2011-01-01 11:00:00|     1|      0|         0|      1|14.76|16.665|      81|  19.0012|    26|        30|   56|\n",
      "|2011-01-01 12:00:00|     1|      0|         0|      1|17.22| 21.21|      77|  19.0012|    29|        55|   84|\n",
      "|2011-01-01 13:00:00|     1|      0|         0|      2|18.86|22.725|      72|  19.9995|    47|        47|   94|\n",
      "|2011-01-01 14:00:00|     1|      0|         0|      2|18.86|22.725|      72|  19.0012|    35|        71|  106|\n",
      "|2011-01-01 15:00:00|     1|      0|         0|      2|18.04| 21.97|      77|  19.9995|    40|        70|  110|\n",
      "|2011-01-01 16:00:00|     1|      0|         0|      2|17.22| 21.21|      82|  19.9995|    41|        52|   93|\n",
      "|2011-01-01 17:00:00|     1|      0|         0|      2|18.04| 21.97|      82|  19.0012|    15|        52|   67|\n",
      "|2011-01-01 18:00:00|     1|      0|         0|      3|17.22| 21.21|      88|  16.9979|     9|        26|   35|\n",
      "+-------------------+------+-------+----------+-------+-----+------+--------+---------+------+----------+-----+\n",
      "only showing top 20 rows\n",
      "\n"
     ]
    },
    {
     "data": {
      "text/plain": [
       "['_c0',\n",
       " '_c1',\n",
       " '_c2',\n",
       " '_c3',\n",
       " '_c4',\n",
       " '_c5',\n",
       " '_c6',\n",
       " '_c7',\n",
       " '_c8',\n",
       " '_c9',\n",
       " '_c10',\n",
       " '_c11']"
      ]
     },
     "execution_count": 3,
     "metadata": {},
     "output_type": "execute_result"
    }
   ],
   "source": [
    "df.show()\n",
    "\n",
    "df.columns "
   ]
  },
  {
   "cell_type": "code",
   "execution_count": 4,
   "id": "310d557e",
   "metadata": {},
   "outputs": [
    {
     "name": "stdout",
     "output_type": "stream",
     "text": [
      "+-------------------+------+-------+----------+-------+-----+----------+--------+---------+------+----------+-----+\n",
      "|           datetime|season|holiday|   workday|weather| temp|feels_temp|humidity|windspeed|casual|registered|count|\n",
      "+-------------------+------+-------+----------+-------+-----+----------+--------+---------+------+----------+-----+\n",
      "|           datetime|season|holiday|workingday|weather| temp|     atemp|humidity|windspeed|casual|registered|count|\n",
      "|2011-01-01 00:00:00|     1|      0|         0|      1| 9.84|    14.395|      81|        0|     3|        13|   16|\n",
      "|2011-01-01 01:00:00|     1|      0|         0|      1| 9.02|    13.635|      80|        0|     8|        32|   40|\n",
      "|2011-01-01 02:00:00|     1|      0|         0|      1| 9.02|    13.635|      80|        0|     5|        27|   32|\n",
      "|2011-01-01 03:00:00|     1|      0|         0|      1| 9.84|    14.395|      75|        0|     3|        10|   13|\n",
      "|2011-01-01 04:00:00|     1|      0|         0|      1| 9.84|    14.395|      75|        0|     0|         1|    1|\n",
      "|2011-01-01 05:00:00|     1|      0|         0|      2| 9.84|     12.88|      75|   6.0032|     0|         1|    1|\n",
      "|2011-01-01 06:00:00|     1|      0|         0|      1| 9.02|    13.635|      80|        0|     2|         0|    2|\n",
      "|2011-01-01 07:00:00|     1|      0|         0|      1|  8.2|     12.88|      86|        0|     1|         2|    3|\n",
      "|2011-01-01 08:00:00|     1|      0|         0|      1| 9.84|    14.395|      75|        0|     1|         7|    8|\n",
      "|2011-01-01 09:00:00|     1|      0|         0|      1|13.12|    17.425|      76|        0|     8|         6|   14|\n",
      "|2011-01-01 10:00:00|     1|      0|         0|      1|15.58|    19.695|      76|  16.9979|    12|        24|   36|\n",
      "|2011-01-01 11:00:00|     1|      0|         0|      1|14.76|    16.665|      81|  19.0012|    26|        30|   56|\n",
      "|2011-01-01 12:00:00|     1|      0|         0|      1|17.22|     21.21|      77|  19.0012|    29|        55|   84|\n",
      "|2011-01-01 13:00:00|     1|      0|         0|      2|18.86|    22.725|      72|  19.9995|    47|        47|   94|\n",
      "|2011-01-01 14:00:00|     1|      0|         0|      2|18.86|    22.725|      72|  19.0012|    35|        71|  106|\n",
      "|2011-01-01 15:00:00|     1|      0|         0|      2|18.04|     21.97|      77|  19.9995|    40|        70|  110|\n",
      "|2011-01-01 16:00:00|     1|      0|         0|      2|17.22|     21.21|      82|  19.9995|    41|        52|   93|\n",
      "|2011-01-01 17:00:00|     1|      0|         0|      2|18.04|     21.97|      82|  19.0012|    15|        52|   67|\n",
      "|2011-01-01 18:00:00|     1|      0|         0|      3|17.22|     21.21|      88|  16.9979|     9|        26|   35|\n",
      "+-------------------+------+-------+----------+-------+-----+----------+--------+---------+------+----------+-----+\n",
      "only showing top 20 rows\n",
      "\n"
     ]
    }
   ],
   "source": [
    "# rename columns \n",
    "df = df.withColumnRenamed('_c0', 'datetime')\n",
    "df = df.withColumnRenamed('_c1', 'season')\n",
    "df = df.withColumnRenamed('_c2', 'holiday')\n",
    "df = df.withColumnRenamed('_c3', 'workday')\n",
    "df = df.withColumnRenamed('_c4', 'weather')\n",
    "df = df.withColumnRenamed('_c5', 'temp')\n",
    "df = df.withColumnRenamed('_c6', 'feels_temp')\n",
    "df = df.withColumnRenamed('_c7', 'humidity')\n",
    "df = df.withColumnRenamed('_c8', 'windspeed')\n",
    "df = df.withColumnRenamed('_c9', 'casual')\n",
    "df = df.withColumnRenamed('_c10', 'registered')\n",
    "df = df.withColumnRenamed('_c11', 'count')\n",
    "\n",
    "df.show()\n",
    "\n"
   ]
  },
  {
   "cell_type": "code",
   "execution_count": 5,
   "id": "e1965e0b",
   "metadata": {},
   "outputs": [
    {
     "name": "stdout",
     "output_type": "stream",
     "text": [
      "+-------------------+------+-------+-------+-------+-----+----------+--------+---------+------+----------+-----+\n",
      "|           datetime|season|holiday|workday|weather| temp|feels_temp|humidity|windspeed|casual|registered|count|\n",
      "+-------------------+------+-------+-------+-------+-----+----------+--------+---------+------+----------+-----+\n",
      "|2011-01-01 00:00:00|     1|      0|      0|      1| 9.84|    14.395|      81|        0|     3|        13|   16|\n",
      "|2011-01-01 01:00:00|     1|      0|      0|      1| 9.02|    13.635|      80|        0|     8|        32|   40|\n",
      "|2011-01-01 02:00:00|     1|      0|      0|      1| 9.02|    13.635|      80|        0|     5|        27|   32|\n",
      "|2011-01-01 03:00:00|     1|      0|      0|      1| 9.84|    14.395|      75|        0|     3|        10|   13|\n",
      "|2011-01-01 04:00:00|     1|      0|      0|      1| 9.84|    14.395|      75|        0|     0|         1|    1|\n",
      "|2011-01-01 05:00:00|     1|      0|      0|      2| 9.84|     12.88|      75|   6.0032|     0|         1|    1|\n",
      "|2011-01-01 06:00:00|     1|      0|      0|      1| 9.02|    13.635|      80|        0|     2|         0|    2|\n",
      "|2011-01-01 07:00:00|     1|      0|      0|      1|  8.2|     12.88|      86|        0|     1|         2|    3|\n",
      "|2011-01-01 08:00:00|     1|      0|      0|      1| 9.84|    14.395|      75|        0|     1|         7|    8|\n",
      "|2011-01-01 09:00:00|     1|      0|      0|      1|13.12|    17.425|      76|        0|     8|         6|   14|\n",
      "|2011-01-01 10:00:00|     1|      0|      0|      1|15.58|    19.695|      76|  16.9979|    12|        24|   36|\n",
      "|2011-01-01 11:00:00|     1|      0|      0|      1|14.76|    16.665|      81|  19.0012|    26|        30|   56|\n",
      "|2011-01-01 12:00:00|     1|      0|      0|      1|17.22|     21.21|      77|  19.0012|    29|        55|   84|\n",
      "|2011-01-01 13:00:00|     1|      0|      0|      2|18.86|    22.725|      72|  19.9995|    47|        47|   94|\n",
      "|2011-01-01 14:00:00|     1|      0|      0|      2|18.86|    22.725|      72|  19.0012|    35|        71|  106|\n",
      "|2011-01-01 15:00:00|     1|      0|      0|      2|18.04|     21.97|      77|  19.9995|    40|        70|  110|\n",
      "|2011-01-01 16:00:00|     1|      0|      0|      2|17.22|     21.21|      82|  19.9995|    41|        52|   93|\n",
      "|2011-01-01 17:00:00|     1|      0|      0|      2|18.04|     21.97|      82|  19.0012|    15|        52|   67|\n",
      "|2011-01-01 18:00:00|     1|      0|      0|      3|17.22|     21.21|      88|  16.9979|     9|        26|   35|\n",
      "|2011-01-01 19:00:00|     1|      0|      0|      3|17.22|     21.21|      88|  16.9979|     6|        31|   37|\n",
      "+-------------------+------+-------+-------+-------+-----+----------+--------+---------+------+----------+-----+\n",
      "only showing top 20 rows\n",
      "\n"
     ]
    },
    {
     "data": {
      "text/plain": [
       "['datetime',\n",
       " 'season',\n",
       " 'holiday',\n",
       " 'workday',\n",
       " 'weather',\n",
       " 'temp',\n",
       " 'feels_temp',\n",
       " 'humidity',\n",
       " 'windspeed',\n",
       " 'casual',\n",
       " 'registered',\n",
       " 'count']"
      ]
     },
     "execution_count": 5,
     "metadata": {},
     "output_type": "execute_result"
    }
   ],
   "source": [
    "#Filter out initial row as it is column lable \n",
    "df = df.filter(df.datetime!='datetime')\n",
    "\n",
    "df.show()\n",
    "\n",
    "df.columns"
   ]
  },
  {
   "cell_type": "code",
   "execution_count": 6,
   "id": "8a6a77c3",
   "metadata": {
    "scrolled": false
   },
   "outputs": [
    {
     "name": "stderr",
     "output_type": "stream",
     "text": [
      "                                                                                \r"
     ]
    },
    {
     "name": "stdout",
     "output_type": "stream",
     "text": [
      "+-------+-------------------+------------------+-------------------+------------------+\n",
      "|summary|           datetime|            season|            holiday|           workday|\n",
      "+-------+-------------------+------------------+-------------------+------------------+\n",
      "|  count|              10886|             10886|              10886|             10886|\n",
      "|   mean|               null|2.5066139996325556|0.02856880396839978|0.6808745177291935|\n",
      "| stddev|               null|1.1161743093443237|0.16659885062470944|0.4661591687997361|\n",
      "|    min|2011-01-01 00:00:00|                 1|                  0|                 0|\n",
      "|    25%|               null|               2.0|                0.0|               0.0|\n",
      "|    50%|               null|               3.0|                0.0|               1.0|\n",
      "|    75%|               null|               4.0|                0.0|               1.0|\n",
      "|    max|2012-12-19 23:00:00|                 4|                  1|                 1|\n",
      "+-------+-------------------+------------------+-------------------+------------------+\n",
      "\n"
     ]
    },
    {
     "name": "stderr",
     "output_type": "stream",
     "text": [
      "                                                                                \r"
     ]
    },
    {
     "name": "stdout",
     "output_type": "stream",
     "text": [
      "+-------+------------------+------------------+-----------------+------------------+------------------+\n",
      "|summary|           weather|              temp|       feels_temp|          humidity|         windspeed|\n",
      "+-------+------------------+------------------+-----------------+------------------+------------------+\n",
      "|  count|             10886|             10886|            10886|             10886|             10886|\n",
      "|   mean| 1.418427337865148|20.230859819952173|23.65508405291192| 61.88645967297446|12.799395406945093|\n",
      "| stddev|0.6338385858190968| 7.791589843987573| 8.47460062648494|19.245033277394704|  8.16453732683871|\n",
      "|    min|                 1|              0.82|             0.76|                 0|                 0|\n",
      "|    25%|               1.0|             13.94|           16.665|              47.0|            7.0015|\n",
      "|    50%|               1.0|              20.5|            24.24|              62.0|            12.998|\n",
      "|    75%|               2.0|             26.24|            31.06|              77.0|           16.9979|\n",
      "|    max|                 4|              9.84|             9.85|                97|            8.9981|\n",
      "+-------+------------------+------------------+-----------------+------------------+------------------+\n",
      "\n",
      "+-------+-----------------+------------------+------------------+\n",
      "|summary|           casual|        registered|             count|\n",
      "+-------+-----------------+------------------+------------------+\n",
      "|  count|            10886|             10886|             10886|\n",
      "|   mean|36.02195480433584| 155.5521771082124|191.57413191254824|\n",
      "| stddev|49.96047657264955|151.03903308192452|181.14445383028493|\n",
      "|    min|                0|                 0|                 1|\n",
      "|    25%|              4.0|              36.0|              42.0|\n",
      "|    50%|             17.0|             118.0|             145.0|\n",
      "|    75%|             49.0|             222.0|             284.0|\n",
      "|    max|               99|                99|                99|\n",
      "+-------+-----------------+------------------+------------------+\n",
      "\n"
     ]
    }
   ],
   "source": [
    "#Dataframe Components Summary \n",
    "\n",
    "df.select(\"datetime\", \"season\", 'holiday', 'workday').summary().show()\n",
    "df.select('weather',\"temp\", \"feels_temp\", 'humidity', 'windspeed').summary().show()\n",
    "df.select(\"casual\", \"registered\", 'count',).summary().show()"
   ]
  },
  {
   "cell_type": "code",
   "execution_count": 7,
   "id": "a436005a",
   "metadata": {},
   "outputs": [
    {
     "name": "stdout",
     "output_type": "stream",
     "text": [
      "root\n",
      " |-- datetime: string (nullable = true)\n",
      " |-- season: string (nullable = true)\n",
      " |-- holiday: string (nullable = true)\n",
      " |-- workday: string (nullable = true)\n",
      " |-- weather: string (nullable = true)\n",
      " |-- temp: string (nullable = true)\n",
      " |-- feels_temp: string (nullable = true)\n",
      " |-- humidity: string (nullable = true)\n",
      " |-- windspeed: string (nullable = true)\n",
      " |-- casual: string (nullable = true)\n",
      " |-- registered: string (nullable = true)\n",
      " |-- count: string (nullable = true)\n",
      "\n",
      "<class 'pandas.core.frame.DataFrame'>\n",
      "RangeIndex: 10886 entries, 0 to 10885\n",
      "Data columns (total 12 columns):\n",
      " #   Column      Non-Null Count  Dtype  \n",
      "---  ------      --------------  -----  \n",
      " 0   datetime    10886 non-null  object \n",
      " 1   season      10886 non-null  int64  \n",
      " 2   holiday     10886 non-null  int64  \n",
      " 3   workingday  10886 non-null  int64  \n",
      " 4   weather     10886 non-null  int64  \n",
      " 5   temp        10886 non-null  float64\n",
      " 6   atemp       10886 non-null  float64\n",
      " 7   humidity    10886 non-null  int64  \n",
      " 8   windspeed   10886 non-null  float64\n",
      " 9   casual      10886 non-null  int64  \n",
      " 10  registered  10886 non-null  int64  \n",
      " 11  count       10886 non-null  int64  \n",
      "dtypes: float64(3), int64(8), object(1)\n",
      "memory usage: 1020.7+ KB\n"
     ]
    }
   ],
   "source": [
    "df.printSchema()\n",
    "\n",
    "df_pd.info()\n"
   ]
  },
  {
   "cell_type": "code",
   "execution_count": 8,
   "id": "5555d15c",
   "metadata": {},
   "outputs": [
    {
     "name": "stdout",
     "output_type": "stream",
     "text": [
      "Null value counts in DataFrame:\n",
      "datetime      0\n",
      "season        0\n",
      "holiday       0\n",
      "workday       0\n",
      "weather       0\n",
      "temp          0\n",
      "feels_temp    0\n",
      "humidity      0\n",
      "windspeed     0\n",
      "casual        0\n",
      "registered    0\n",
      "count         0\n",
      "dtype: int64\n"
     ]
    }
   ],
   "source": [
    "#Check if there are any null or missing values\n",
    "from pyspark.sql.functions import col\n",
    "\n",
    "null_counts = df.select([col(column).isNull().alias(column) for column in df.columns]).toPandas().sum()\n",
    "print(\"Null value counts in DataFrame:\")\n",
    "print(null_counts)"
   ]
  },
  {
   "cell_type": "code",
   "execution_count": 9,
   "id": "440bb0c0",
   "metadata": {},
   "outputs": [
    {
     "name": "stdout",
     "output_type": "stream",
     "text": [
      "+-------+------------------+\n",
      "|summary|             count|\n",
      "+-------+------------------+\n",
      "|  count|             10886|\n",
      "|   mean|191.57413191254824|\n",
      "| stddev|181.14445383028493|\n",
      "|    min|                 1|\n",
      "|    25%|              42.0|\n",
      "|    50%|             145.0|\n",
      "|    75%|             284.0|\n",
      "|    max|                99|\n",
      "+-------+------------------+\n",
      "\n"
     ]
    },
    {
     "data": {
      "text/plain": [
       "<AxesSubplot:ylabel='Frequency'>"
      ]
     },
     "execution_count": 9,
     "metadata": {},
     "output_type": "execute_result"
    },
    {
     "data": {
      "image/png": "[encoded data removed]",
      "text/plain": [
       "<Figure size 432x288 with 1 Axes>"
      ]
     },
     "metadata": {
      "needs_background": "light"
     },
     "output_type": "display_data"
    }
   ],
   "source": [
    "df.select('count',).summary().show()\n",
    "df_pd['count'].plot.hist()"
   ]
  },
  {
   "cell_type": "code",
   "execution_count": 10,
   "id": "44ea7a7c",
   "metadata": {},
   "outputs": [
    {
     "data": {
      "text/plain": [
       "<AxesSubplot:ylabel='season'>"
      ]
     },
     "execution_count": 10,
     "metadata": {},
     "output_type": "execute_result"
    },
    {
     "data": {
      "image/png": "[encoded data removed]",
      "text/plain": [
       "<Figure size 432x288 with 1 Axes>"
      ]
     },
     "metadata": {},
     "output_type": "display_data"
    }
   ],
   "source": [
    "df_pd['season'].value_counts().plot.pie(autopct='%1.0f%%')"
   ]
  },
  {
   "cell_type": "code",
   "execution_count": 11,
   "id": "042c096c",
   "metadata": {},
   "outputs": [
    {
     "data": {
      "text/plain": [
       "<AxesSubplot:ylabel='weather'>"
      ]
     },
     "execution_count": 11,
     "metadata": {},
     "output_type": "execute_result"
    },
    {
     "data": {
      "image/png": "[encoded data removed]",
      "text/plain": [
       "<Figure size 432x288 with 1 Axes>"
      ]
     },
     "metadata": {},
     "output_type": "display_data"
    }
   ],
   "source": [
    "df_pd['weather'].value_counts().plot.pie(autopct='%1.0f%%')"
   ]
  },
  {
   "cell_type": "code",
   "execution_count": null,
   "id": "8796f36f",
   "metadata": {},
   "outputs": [],
   "source": []
  },
  {
   "cell_type": "markdown",
   "id": "bd1d69e3",
   "metadata": {},
   "source": [
    "# 03 - Data Preparation"
   ]
  },
  {
   "cell_type": "code",
   "execution_count": 12,
   "id": "ca03c6b2",
   "metadata": {},
   "outputs": [
    {
     "name": "stdout",
     "output_type": "stream",
     "text": [
      "+-------------------+------+-------+-------+-------+-----+----------+--------+---------+------+----------+-----+\n",
      "|           datetime|season|holiday|workday|weather| temp|feels_temp|humidity|windspeed|casual|registered|count|\n",
      "+-------------------+------+-------+-------+-------+-----+----------+--------+---------+------+----------+-----+\n",
      "|2011-01-01 00:00:00|     1|      0|      0|      1| 9.84|    14.395|      81|        0|     3|        13|   16|\n",
      "|2011-01-01 01:00:00|     1|      0|      0|      1| 9.02|    13.635|      80|        0|     8|        32|   40|\n",
      "|2011-01-01 02:00:00|     1|      0|      0|      1| 9.02|    13.635|      80|        0|     5|        27|   32|\n",
      "|2011-01-01 03:00:00|     1|      0|      0|      1| 9.84|    14.395|      75|        0|     3|        10|   13|\n",
      "|2011-01-01 04:00:00|     1|      0|      0|      1| 9.84|    14.395|      75|        0|     0|         1|    1|\n",
      "|2011-01-01 05:00:00|     1|      0|      0|      2| 9.84|     12.88|      75|   6.0032|     0|         1|    1|\n",
      "|2011-01-01 06:00:00|     1|      0|      0|      1| 9.02|    13.635|      80|        0|     2|         0|    2|\n",
      "|2011-01-01 07:00:00|     1|      0|      0|      1|  8.2|     12.88|      86|        0|     1|         2|    3|\n",
      "|2011-01-01 08:00:00|     1|      0|      0|      1| 9.84|    14.395|      75|        0|     1|         7|    8|\n",
      "|2011-01-01 09:00:00|     1|      0|      0|      1|13.12|    17.425|      76|        0|     8|         6|   14|\n",
      "|2011-01-01 10:00:00|     1|      0|      0|      1|15.58|    19.695|      76|  16.9979|    12|        24|   36|\n",
      "|2011-01-01 11:00:00|     1|      0|      0|      1|14.76|    16.665|      81|  19.0012|    26|        30|   56|\n",
      "|2011-01-01 12:00:00|     1|      0|      0|      1|17.22|     21.21|      77|  19.0012|    29|        55|   84|\n",
      "|2011-01-01 13:00:00|     1|      0|      0|      2|18.86|    22.725|      72|  19.9995|    47|        47|   94|\n",
      "|2011-01-01 14:00:00|     1|      0|      0|      2|18.86|    22.725|      72|  19.0012|    35|        71|  106|\n",
      "|2011-01-01 15:00:00|     1|      0|      0|      2|18.04|     21.97|      77|  19.9995|    40|        70|  110|\n",
      "|2011-01-01 16:00:00|     1|      0|      0|      2|17.22|     21.21|      82|  19.9995|    41|        52|   93|\n",
      "|2011-01-01 17:00:00|     1|      0|      0|      2|18.04|     21.97|      82|  19.0012|    15|        52|   67|\n",
      "|2011-01-01 18:00:00|     1|      0|      0|      3|17.22|     21.21|      88|  16.9979|     9|        26|   35|\n",
      "|2011-01-01 19:00:00|     1|      0|      0|      3|17.22|     21.21|      88|  16.9979|     6|        31|   37|\n",
      "+-------------------+------+-------+-------+-------+-----+----------+--------+---------+------+----------+-----+\n",
      "only showing top 20 rows\n",
      "\n"
     ]
    }
   ],
   "source": [
    "# Import in the relevant types.\n",
    "from pyspark.sql.types import (StructField,StringType,IntegerType,StructType)\n",
    "df.show() "
   ]
  },
  {
   "cell_type": "code",
   "execution_count": 13,
   "id": "3047543a",
   "metadata": {},
   "outputs": [
    {
     "name": "stdout",
     "output_type": "stream",
     "text": [
      "+------+-------+-------+-------+-----+----------+--------+---------+------+----------+-----+----+-----+---+----+\n",
      "|season|holiday|workday|weather| temp|feels_temp|humidity|windspeed|casual|registered|count|Year|Month|Day|Hour|\n",
      "+------+-------+-------+-------+-----+----------+--------+---------+------+----------+-----+----+-----+---+----+\n",
      "|     1|      0|      0|      1| 9.84|    14.395|      81|        0|     3|        13|   16|2011|   01| 01|  01|\n",
      "|     1|      0|      0|      1| 9.02|    13.635|      80|        0|     8|        32|   40|2011|   01| 01|  01|\n",
      "|     1|      0|      0|      1| 9.02|    13.635|      80|        0|     5|        27|   32|2011|   01| 01|  01|\n",
      "|     1|      0|      0|      1| 9.84|    14.395|      75|        0|     3|        10|   13|2011|   01| 01|  01|\n",
      "|     1|      0|      0|      1| 9.84|    14.395|      75|        0|     0|         1|    1|2011|   01| 01|  01|\n",
      "|     1|      0|      0|      2| 9.84|     12.88|      75|   6.0032|     0|         1|    1|2011|   01| 01|  01|\n",
      "|     1|      0|      0|      1| 9.02|    13.635|      80|        0|     2|         0|    2|2011|   01| 01|  01|\n",
      "|     1|      0|      0|      1|  8.2|     12.88|      86|        0|     1|         2|    3|2011|   01| 01|  01|\n",
      "|     1|      0|      0|      1| 9.84|    14.395|      75|        0|     1|         7|    8|2011|   01| 01|  01|\n",
      "|     1|      0|      0|      1|13.12|    17.425|      76|        0|     8|         6|   14|2011|   01| 01|  01|\n",
      "|     1|      0|      0|      1|15.58|    19.695|      76|  16.9979|    12|        24|   36|2011|   01| 01|  01|\n",
      "|     1|      0|      0|      1|14.76|    16.665|      81|  19.0012|    26|        30|   56|2011|   01| 01|  01|\n",
      "|     1|      0|      0|      1|17.22|     21.21|      77|  19.0012|    29|        55|   84|2011|   01| 01|  01|\n",
      "|     1|      0|      0|      2|18.86|    22.725|      72|  19.9995|    47|        47|   94|2011|   01| 01|  01|\n",
      "|     1|      0|      0|      2|18.86|    22.725|      72|  19.0012|    35|        71|  106|2011|   01| 01|  01|\n",
      "|     1|      0|      0|      2|18.04|     21.97|      77|  19.9995|    40|        70|  110|2011|   01| 01|  01|\n",
      "|     1|      0|      0|      2|17.22|     21.21|      82|  19.9995|    41|        52|   93|2011|   01| 01|  01|\n",
      "|     1|      0|      0|      2|18.04|     21.97|      82|  19.0012|    15|        52|   67|2011|   01| 01|  01|\n",
      "|     1|      0|      0|      3|17.22|     21.21|      88|  16.9979|     9|        26|   35|2011|   01| 01|  01|\n",
      "|     1|      0|      0|      3|17.22|     21.21|      88|  16.9979|     6|        31|   37|2011|   01| 01|  01|\n",
      "+------+-------+-------+-------+-----+----------+--------+---------+------+----------+-----+----+-----+---+----+\n",
      "only showing top 20 rows\n",
      "\n"
     ]
    }
   ],
   "source": [
    "#Split datetime varaible into Year, Month, Day and Hour\n",
    "from pyspark.sql.functions import split\n",
    "\n",
    "split_col = split(df['datetime'], '-')\n",
    "\n",
    "df = df.withColumn('Year', split_col.getItem(0))\n",
    "df = df.withColumn('Month', split_col.getItem(1))\n",
    "df = df.withColumn('Day_Time', split_col.getItem(2))\n",
    "\n",
    "\n",
    "split_col = split(df['Day_Time'], '\\s+')\n",
    "df = df.withColumn('Day', split_col.getItem(0))\n",
    "df = df.withColumn('Hour', split_col.getItem(0))\n",
    "\n",
    "df = df.drop('datetime')\n",
    "df = df.drop('Day_Time')\n",
    "df.show() \n"
   ]
  },
  {
   "cell_type": "code",
   "execution_count": 14,
   "id": "549b7f84",
   "metadata": {},
   "outputs": [
    {
     "name": "stdout",
     "output_type": "stream",
     "text": [
      "root\n",
      " |-- season: string (nullable = true)\n",
      " |-- holiday: boolean (nullable = true)\n",
      " |-- workday: boolean (nullable = true)\n",
      " |-- weather: integer (nullable = true)\n",
      " |-- temp: float (nullable = true)\n",
      " |-- feels_temp: float (nullable = true)\n",
      " |-- humidity: integer (nullable = true)\n",
      " |-- windspeed: float (nullable = true)\n",
      " |-- casual: integer (nullable = true)\n",
      " |-- registered: integer (nullable = true)\n",
      " |-- count: integer (nullable = true)\n",
      " |-- Year: integer (nullable = true)\n",
      " |-- Month: integer (nullable = true)\n",
      " |-- Day: integer (nullable = true)\n",
      " |-- Hour: integer (nullable = true)\n",
      "\n"
     ]
    }
   ],
   "source": [
    "#Reformt Schema\n",
    "from pyspark.sql.types import StringType, IntegerType, FloatType, BooleanType\n",
    "\n",
    "df = df.withColumn(\"season\" ,df[\"season\"].cast(StringType()))\n",
    "df = df.withColumn(\"holiday\" ,df[\"holiday\"].cast(BooleanType()))\n",
    "df = df.withColumn(\"workday\" ,df[\"workday\"].cast(BooleanType()))\n",
    "df = df.withColumn(\"weather\" ,df[\"weather\"].cast(IntegerType()))\n",
    "df = df.withColumn(\"temp\" ,df[\"temp\"].cast(FloatType()))\n",
    "df = df.withColumn(\"feels_temp\" ,df[\"feels_temp\"].cast(FloatType()))\n",
    "df = df.withColumn(\"humidity\" ,df[\"humidity\"].cast(IntegerType()))\n",
    "df = df.withColumn(\"windspeed\" ,df[\"windspeed\"].cast(FloatType()))\n",
    "df = df.withColumn(\"casual\" ,df[\"casual\"].cast(IntegerType()))\n",
    "df = df.withColumn(\"registered\" ,df[\"registered\"].cast(IntegerType()))\n",
    "df = df.withColumn(\"count\" ,df[\"count\"].cast(IntegerType()))\n",
    "df = df.withColumn(\"Year\" ,df[\"Year\"].cast(IntegerType()))\n",
    "df = df.withColumn(\"Month\" ,df[\"Month\"].cast(IntegerType()))\n",
    "df = df.withColumn(\"Day\" ,df[\"Day\"].cast(IntegerType()))\n",
    "df = df.withColumn(\"Hour\" ,df[\"Hour\"].cast(IntegerType()))\n",
    "\n",
    "\n",
    "df.printSchema()"
   ]
  },
  {
   "cell_type": "code",
   "execution_count": 15,
   "id": "cce9789c",
   "metadata": {},
   "outputs": [
    {
     "name": "stdout",
     "output_type": "stream",
     "text": [
      "+------+-------+-------+-------+-----+----------+--------+---------+------+----------+-----+----+-----+---+----+\n",
      "|season|holiday|workday|weather| temp|feels_temp|humidity|windspeed|casual|registered|count|Year|Month|Day|Hour|\n",
      "+------+-------+-------+-------+-----+----------+--------+---------+------+----------+-----+----+-----+---+----+\n",
      "|     1|  false|  false|      1| 9.84|    14.395|      81|      0.0|     3|        13|   16|2011|    1|  1|   1|\n",
      "|     1|  false|  false|      1| 9.02|    13.635|      80|      0.0|     8|        32|   40|2011|    1|  1|   1|\n",
      "|     1|  false|  false|      1| 9.02|    13.635|      80|      0.0|     5|        27|   32|2011|    1|  1|   1|\n",
      "|     1|  false|  false|      1| 9.84|    14.395|      75|      0.0|     3|        10|   13|2011|    1|  1|   1|\n",
      "|     1|  false|  false|      1| 9.84|    14.395|      75|      0.0|     0|         1|    1|2011|    1|  1|   1|\n",
      "|     1|  false|  false|      2| 9.84|     12.88|      75|   6.0032|     0|         1|    1|2011|    1|  1|   1|\n",
      "|     1|  false|  false|      1| 9.02|    13.635|      80|      0.0|     2|         0|    2|2011|    1|  1|   1|\n",
      "|     1|  false|  false|      1|  8.2|     12.88|      86|      0.0|     1|         2|    3|2011|    1|  1|   1|\n",
      "|     1|  false|  false|      1| 9.84|    14.395|      75|      0.0|     1|         7|    8|2011|    1|  1|   1|\n",
      "|     1|  false|  false|      1|13.12|    17.425|      76|      0.0|     8|         6|   14|2011|    1|  1|   1|\n",
      "|     1|  false|  false|      1|15.58|    19.695|      76|  16.9979|    12|        24|   36|2011|    1|  1|   1|\n",
      "|     1|  false|  false|      1|14.76|    16.665|      81|  19.0012|    26|        30|   56|2011|    1|  1|   1|\n",
      "|     1|  false|  false|      1|17.22|     21.21|      77|  19.0012|    29|        55|   84|2011|    1|  1|   1|\n",
      "|     1|  false|  false|      2|18.86|    22.725|      72|  19.9995|    47|        47|   94|2011|    1|  1|   1|\n",
      "|     1|  false|  false|      2|18.86|    22.725|      72|  19.0012|    35|        71|  106|2011|    1|  1|   1|\n",
      "|     1|  false|  false|      2|18.04|     21.97|      77|  19.9995|    40|        70|  110|2011|    1|  1|   1|\n",
      "|     1|  false|  false|      2|17.22|     21.21|      82|  19.9995|    41|        52|   93|2011|    1|  1|   1|\n",
      "|     1|  false|  false|      2|18.04|     21.97|      82|  19.0012|    15|        52|   67|2011|    1|  1|   1|\n",
      "|     1|  false|  false|      3|17.22|     21.21|      88|  16.9979|     9|        26|   35|2011|    1|  1|   1|\n",
      "|     1|  false|  false|      3|17.22|     21.21|      88|  16.9979|     6|        31|   37|2011|    1|  1|   1|\n",
      "+------+-------+-------+-------+-----+----------+--------+---------+------+----------+-----+----+-----+---+----+\n",
      "only showing top 20 rows\n",
      "\n"
     ]
    }
   ],
   "source": [
    "df.show()"
   ]
  },
  {
   "cell_type": "code",
   "execution_count": 16,
   "id": "4fd49c7d",
   "metadata": {},
   "outputs": [
    {
     "name": "stdout",
     "output_type": "stream",
     "text": [
      "+------+-------+-------+--------+-----+----------+--------+---------+------+----------+-----+----+-----+---+----+\n",
      "|season|holiday|workday| weather| temp|feels_temp|humidity|windspeed|casual|registered|count|Year|Month|Day|Hour|\n",
      "+------+-------+-------+--------+-----+----------+--------+---------+------+----------+-----+----+-----+---+----+\n",
      "|Spring|  false|  false|   Sunny| 9.84|    14.395|      81|      0.0|     3|        13|   16|2011|    1|  1|   1|\n",
      "|Spring|  false|  false|   Sunny| 9.02|    13.635|      80|      0.0|     8|        32|   40|2011|    1|  1|   1|\n",
      "|Spring|  false|  false|   Sunny| 9.02|    13.635|      80|      0.0|     5|        27|   32|2011|    1|  1|   1|\n",
      "|Spring|  false|  false|   Sunny| 9.84|    14.395|      75|      0.0|     3|        10|   13|2011|    1|  1|   1|\n",
      "|Spring|  false|  false|   Sunny| 9.84|    14.395|      75|      0.0|     0|         1|    1|2011|    1|  1|   1|\n",
      "|Spring|  false|  false|  Cloudy| 9.84|     12.88|      75|   6.0032|     0|         1|    1|2011|    1|  1|   1|\n",
      "|Spring|  false|  false|   Sunny| 9.02|    13.635|      80|      0.0|     2|         0|    2|2011|    1|  1|   1|\n",
      "|Spring|  false|  false|   Sunny|  8.2|     12.88|      86|      0.0|     1|         2|    3|2011|    1|  1|   1|\n",
      "|Spring|  false|  false|   Sunny| 9.84|    14.395|      75|      0.0|     1|         7|    8|2011|    1|  1|   1|\n",
      "|Spring|  false|  false|   Sunny|13.12|    17.425|      76|      0.0|     8|         6|   14|2011|    1|  1|   1|\n",
      "|Spring|  false|  false|   Sunny|15.58|    19.695|      76|  16.9979|    12|        24|   36|2011|    1|  1|   1|\n",
      "|Spring|  false|  false|   Sunny|14.76|    16.665|      81|  19.0012|    26|        30|   56|2011|    1|  1|   1|\n",
      "|Spring|  false|  false|   Sunny|17.22|     21.21|      77|  19.0012|    29|        55|   84|2011|    1|  1|   1|\n",
      "|Spring|  false|  false|  Cloudy|18.86|    22.725|      72|  19.9995|    47|        47|   94|2011|    1|  1|   1|\n",
      "|Spring|  false|  false|  Cloudy|18.86|    22.725|      72|  19.0012|    35|        71|  106|2011|    1|  1|   1|\n",
      "|Spring|  false|  false|  Cloudy|18.04|     21.97|      77|  19.9995|    40|        70|  110|2011|    1|  1|   1|\n",
      "|Spring|  false|  false|  Cloudy|17.22|     21.21|      82|  19.9995|    41|        52|   93|2011|    1|  1|   1|\n",
      "|Spring|  false|  false|  Cloudy|18.04|     21.97|      82|  19.0012|    15|        52|   67|2011|    1|  1|   1|\n",
      "|Spring|  false|  false|Lite R/S|17.22|     21.21|      88|  16.9979|     9|        26|   35|2011|    1|  1|   1|\n",
      "|Spring|  false|  false|Lite R/S|17.22|     21.21|      88|  16.9979|     6|        31|   37|2011|    1|  1|   1|\n",
      "+------+-------+-------+--------+-----+----------+--------+---------+------+----------+-----+----+-----+---+----+\n",
      "only showing top 20 rows\n",
      "\n"
     ]
    }
   ],
   "source": [
    "# Reformat Season and Weather Variables \n",
    "from pyspark.sql.functions import when\n",
    "df = df.withColumn(\"season\",\n",
    "                   when(df[\"season\"] == \"1\", \"Spring\")\n",
    "                   .when(df[\"season\"] == \"2\", \"Summer\")\n",
    "                   .when(df[\"season\"] == \"3\", \"Autumn\")\n",
    "                   .when(df[\"season\"] == \"4\", \"Winter\")\n",
    "                   .otherwise(df[\"season\"]))\n",
    "\n",
    "df = df.withColumn(\"weather\",\n",
    "                   when(df[\"weather\"] == \"1\", \"Sunny\")\n",
    "                   .when(df[\"weather\"] == \"2\", \"Cloudy\")\n",
    "                   .when(df[\"weather\"] == \"3\", \"Lite R/S\")\n",
    "                   .when(df[\"weather\"] == \"4\", \"Severe Con\")\n",
    "                   .otherwise(df[\"weather\"]))\n",
    "\n",
    "df.show()\n"
   ]
  },
  {
   "cell_type": "code",
   "execution_count": 17,
   "id": "af55fc29",
   "metadata": {},
   "outputs": [
    {
     "name": "stdout",
     "output_type": "stream",
     "text": [
      "+-------+------+\n",
      "|summary|season|\n",
      "+-------+------+\n",
      "|  count| 10886|\n",
      "|   mean|  null|\n",
      "| stddev|  null|\n",
      "|    min|Autumn|\n",
      "|    25%|  null|\n",
      "|    50%|  null|\n",
      "|    75%|  null|\n",
      "|    max|Winter|\n",
      "+-------+------+\n",
      "\n",
      "+-------+-------+------------------+------------------+------------------+------------------+\n",
      "|summary|weather|              temp|        feels_temp|          humidity|         windspeed|\n",
      "+-------+-------+------------------+------------------+------------------+------------------+\n",
      "|  count|  10886|             10886|             10886|             10886|             10886|\n",
      "|   mean|   null|20.230859755084463|23.655083944697644| 61.88645967297446|12.799395461085087|\n",
      "| stddev|   null| 7.791589801596519| 8.474600557366823|19.245033277394704|  8.16453733646764|\n",
      "|    min| Cloudy|              0.82|              0.76|                 0|               0.0|\n",
      "|    25%|   null|             13.94|            16.665|                47|            7.0015|\n",
      "|    50%|   null|              20.5|             24.24|                62|            12.998|\n",
      "|    75%|   null|             26.24|             31.06|                77|           16.9979|\n",
      "|    max|  Sunny|              41.0|            45.455|               100|           56.9969|\n",
      "+-------+-------+------------------+------------------+------------------+------------------+\n",
      "\n",
      "+-------+-----------------+------------------+------------------+\n",
      "|summary|           casual|        registered|             count|\n",
      "+-------+-----------------+------------------+------------------+\n",
      "|  count|            10886|             10886|             10886|\n",
      "|   mean|36.02195480433584| 155.5521771082124|191.57413191254824|\n",
      "| stddev|49.96047657264955|151.03903308192452|181.14445383028493|\n",
      "|    min|                0|                 0|                 1|\n",
      "|    25%|                4|                36|                42|\n",
      "|    50%|               17|               118|               145|\n",
      "|    75%|               49|               222|               284|\n",
      "|    max|              367|               886|               977|\n",
      "+-------+-----------------+------------------+------------------+\n",
      "\n",
      "+-------+------------------+------------------+-----------------+-----------------+\n",
      "|summary|              Year|             Month|              Day|             Hour|\n",
      "+-------+------------------+------------------+-----------------+-----------------+\n",
      "|  count|             10886|             10886|            10886|            10886|\n",
      "|   mean| 2011.501929083226| 6.521495498805805|9.992559250413375|9.992559250413375|\n",
      "| stddev|0.5000192453127775|3.4443734957806744| 5.47660827094255| 5.47660827094255|\n",
      "|    min|              2011|                 1|                1|                1|\n",
      "|    25%|              2011|                 4|                5|                5|\n",
      "|    50%|              2012|                 7|               10|               10|\n",
      "|    75%|              2012|                10|               15|               15|\n",
      "|    max|              2012|                12|               19|               19|\n",
      "+-------+------------------+------------------+-----------------+-----------------+\n",
      "\n"
     ]
    }
   ],
   "source": [
    "df.select(\"season\", \"holiday\", 'workday').summary().show()\n",
    "df.select('weather',\"temp\", \"feels_temp\", 'humidity', 'windspeed').summary().show()\n",
    "df.select(\"casual\", \"registered\", 'count',).summary().show()\n",
    "df.select(\"Year\", \"Month\", 'Day','Hour').summary().show()"
   ]
  },
  {
   "cell_type": "code",
   "execution_count": 18,
   "id": "dd2a1f77",
   "metadata": {},
   "outputs": [],
   "source": [
    "#Data Preparation\n",
    "\n"
   ]
  },
  {
   "cell_type": "markdown",
   "id": "a885638a",
   "metadata": {},
   "source": [
    "# 04 - Data Transformation\n"
   ]
  },
  {
   "cell_type": "code",
   "execution_count": 31,
   "id": "7d36c00a",
   "metadata": {},
   "outputs": [
    {
     "name": "stdout",
     "output_type": "stream",
     "text": [
      "Correlation Matrix:\n",
      "holiday      -0.005393\n",
      "workday       0.011594\n",
      "temp          0.394454\n",
      "feels_temp    0.389784\n",
      "humidity     -0.317371\n",
      "windspeed     0.101369\n",
      "casual        0.690414\n",
      "registered    0.970948\n",
      "count         1.000000\n",
      "Year          0.260403\n",
      "Month         0.166862\n",
      "Day           0.019826\n",
      "Hour          0.019826\n",
      "Name: count, dtype: float64\n"
     ]
    },
    {
     "data": {
      "image/png": "[encoded data removed]",
      "text/plain": [
       "<Figure size 720x576 with 2 Axes>"
      ]
     },
     "metadata": {
      "needs_background": "light"
     },
     "output_type": "display_data"
    }
   ],
   "source": [
    "#Data Reduction\n",
    "#Convert dataframe to Pandas to view correlation matirx\n",
    "df_pd = df.toPandas()\n",
    "\n",
    "correlation_matrix = df_pd.corr()\n",
    "\n",
    "# Print correlation matrix\n",
    "print(\"Correlation Matrix:\")\n",
    "print(correlation_matrix['count'])\n",
    "\n",
    "plt.figure(figsize=(10, 8))\n",
    "sns.heatmap(correlation_matrix, annot=True, cmap='coolwarm', fmt=\".2f\")\n",
    "plt.title('Correlation Matrix Heatmap')\n",
    "plt.show()\n"
   ]
  },
  {
   "cell_type": "code",
   "execution_count": null,
   "id": "a270f992",
   "metadata": {},
   "outputs": [],
   "source": []
  },
  {
   "cell_type": "markdown",
   "id": "26e31475",
   "metadata": {},
   "source": [
    "# 05 - Data Mining Methods"
   ]
  },
  {
   "cell_type": "code",
   "execution_count": null,
   "id": "1b6740dd",
   "metadata": {},
   "outputs": [],
   "source": []
  },
  {
   "cell_type": "code",
   "execution_count": null,
   "id": "fde2dea3",
   "metadata": {},
   "outputs": [],
   "source": []
  },
  {
   "cell_type": "markdown",
   "id": "23256ffc",
   "metadata": {},
   "source": [
    "# 06 - Data Mining Method Analysis\n"
   ]
  },
  {
   "cell_type": "code",
   "execution_count": null,
   "id": "ed6d6f63",
   "metadata": {},
   "outputs": [],
   "source": []
  },
  {
   "cell_type": "code",
   "execution_count": null,
   "id": "fde909f0",
   "metadata": {},
   "outputs": [],
   "source": []
  },
  {
   "cell_type": "markdown",
   "id": "e79a3a52",
   "metadata": {},
   "source": [
    "# 07 - Data Mining\n"
   ]
  },
  {
   "cell_type": "code",
   "execution_count": null,
   "id": "022f2883",
   "metadata": {},
   "outputs": [],
   "source": []
  },
  {
   "cell_type": "code",
   "execution_count": null,
   "id": "81603f27",
   "metadata": {},
   "outputs": [],
   "source": []
  },
  {
   "cell_type": "markdown",
   "id": "5dcb00a2",
   "metadata": {},
   "source": [
    "# 08 - Interpretation\n"
   ]
  },
  {
   "cell_type": "code",
   "execution_count": null,
   "id": "49aa0770",
   "metadata": {},
   "outputs": [],
   "source": []
  },
  {
   "cell_type": "code",
   "execution_count": null,
   "id": "f5a86375",
   "metadata": {},
   "outputs": [],
   "source": []
  }
 ],
 "metadata": {
  "kernelspec": {
   "display_name": "Python 3 (ipykernel)",
   "language": "python",
   "name": "python3"
  },
  "language_info": {
   "codemirror_mode": {
    "name": "ipython",
    "version": 3
   },
   "file_extension": ".py",
   "mimetype": "text/x-python",
   "name": "python",
   "nbconvert_exporter": "python",
   "pygments_lexer": "ipython3",
   "version": "3.10.12"
  }
 },
 "nbformat": 4,
 "nbformat_minor": 5
}
